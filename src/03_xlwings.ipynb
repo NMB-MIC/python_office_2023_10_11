{
 "cells": [
  {
   "cell_type": "markdown",
   "metadata": {},
   "source": [
    "## Xlwings"
   ]
  },
  {
   "cell_type": "code",
   "execution_count": 1,
   "metadata": {},
   "outputs": [],
   "source": [
    "# install\n",
    "#!pip install xlwings\n",
    "#!pip install matplotlib"
   ]
  },
  {
   "cell_type": "code",
   "execution_count": 2,
   "metadata": {},
   "outputs": [],
   "source": [
    "import xlwings as xw\n",
    "import matplotlib.pyplot as plt"
   ]
  },
  {
   "cell_type": "code",
   "execution_count": 3,
   "metadata": {},
   "outputs": [
    {
     "data": {
      "text/html": [
       "<div>\n",
       "<style scoped>\n",
       "    .dataframe tbody tr th:only-of-type {\n",
       "        vertical-align: middle;\n",
       "    }\n",
       "\n",
       "    .dataframe tbody tr th {\n",
       "        vertical-align: top;\n",
       "    }\n",
       "\n",
       "    .dataframe thead th {\n",
       "        text-align: right;\n",
       "    }\n",
       "</style>\n",
       "<table border=\"1\" class=\"dataframe\">\n",
       "  <thead>\n",
       "    <tr style=\"text-align: right;\">\n",
       "      <th>Region</th>\n",
       "      <th>East</th>\n",
       "      <th>West</th>\n",
       "      <th>North</th>\n",
       "      <th>South</th>\n",
       "    </tr>\n",
       "    <tr>\n",
       "      <th>Quaters</th>\n",
       "      <th></th>\n",
       "      <th></th>\n",
       "      <th></th>\n",
       "      <th></th>\n",
       "    </tr>\n",
       "  </thead>\n",
       "  <tbody>\n",
       "    <tr>\n",
       "      <th>Q1</th>\n",
       "      <td>21951.594692</td>\n",
       "      <td>79244.675946</td>\n",
       "      <td>89780.824497</td>\n",
       "      <td>17883.796351</td>\n",
       "    </tr>\n",
       "    <tr>\n",
       "      <th>Q2</th>\n",
       "      <td>2292.475023</td>\n",
       "      <td>51347.955398</td>\n",
       "      <td>76516.313693</td>\n",
       "      <td>83352.943439</td>\n",
       "    </tr>\n",
       "    <tr>\n",
       "      <th>Q3</th>\n",
       "      <td>27783.417621</td>\n",
       "      <td>51520.163302</td>\n",
       "      <td>90354.535396</td>\n",
       "      <td>12147.816023</td>\n",
       "    </tr>\n",
       "    <tr>\n",
       "      <th>Q4</th>\n",
       "      <td>75517.562768</td>\n",
       "      <td>24949.487970</td>\n",
       "      <td>68399.140561</td>\n",
       "      <td>67646.298880</td>\n",
       "    </tr>\n",
       "  </tbody>\n",
       "</table>\n",
       "</div>"
      ],
      "text/plain": [
       "Region           East          West         North         South\n",
       "Quaters                                                        \n",
       "Q1       21951.594692  79244.675946  89780.824497  17883.796351\n",
       "Q2        2292.475023  51347.955398  76516.313693  83352.943439\n",
       "Q3       27783.417621  51520.163302  90354.535396  12147.816023\n",
       "Q4       75517.562768  24949.487970  68399.140561  67646.298880"
      ]
     },
     "execution_count": 3,
     "metadata": {},
     "output_type": "execute_result"
    }
   ],
   "source": [
    "import pandas as pd\n",
    "import numpy as np\n",
    "data = pd.DataFrame(data=np.random.rand(4,4)*100000,\n",
    "index=[\"Q1\",\"Q2\",\"Q3\",\"Q4\"],\n",
    "columns=[\"East\",\"West\",\"North\",\"South\"])\n",
    "data.index.name = \"Quaters\"\n",
    "data.columns.name = \"Region\"\n",
    "data"
   ]
  },
  {
   "cell_type": "code",
   "execution_count": 4,
   "metadata": {},
   "outputs": [
    {
     "data": {
      "image/png": "[encoded data removed]",
      "text/plain": [
       "<Figure size 640x480 with 1 Axes>"
      ]
     },
     "metadata": {},
     "output_type": "display_data"
    }
   ],
   "source": [
    "import matplotlib.pyplot as plt\n",
    "fig = data.plot.bar().get_figure()"
   ]
  },
  {
   "cell_type": "code",
   "execution_count": 11,
   "metadata": {},
   "outputs": [],
   "source": [
    "import xlwings as xw\n",
    "\n",
    "template = xw.Book()\n",
    "\n",
    "app = xw.apps.active\n",
    "\n",
    "sheet = template.sheets[\"Sheet1\"]\n",
    "sheet[\"A1\"].value = \"Import data with Xlwings\"\n",
    "sheet[\"A1\"].api.Font.Bold = True\n",
    "sheet[\"A1\"].color = (78,59,201)\n",
    "sheet[\"A1\"].font.color = (255, 0, 0) \n",
    "sheet[\"E1\"].value = data\n",
    "#add picture\n",
    "plot= sheet.pictures.add(fig,top=sheet[\"B9\"].top,left=sheet[\"B9\"].left)\n",
    "plot.width = plot.width*0.8\n",
    "plot.height = plot.height*0.8\n",
    "\n",
    "template.sheets.add(\"Sheet2\")\n",
    "sheet_2 = template.sheets[\"Sheet2\"]\n",
    "sheet_2[\"A1\"].value = \"Import data with Xlwings sheet2\"\n",
    "\n",
    "template.save(r\"export\\sample_xlwings.xlsx\")\n",
    "template.close()\n",
    "app.kill()"
   ]
  },
  {
   "cell_type": "markdown",
   "metadata": {},
   "source": [
    "#### run with invisible"
   ]
  },
  {
   "cell_type": "code",
   "execution_count": 10,
   "metadata": {},
   "outputs": [],
   "source": [
    "import xlwings as xw \n",
    "\n",
    "app = xw.App(visible=False)\n",
    "book = xw.Book()\n",
    "sheet = book.sheets('Sheet1')\n",
    "sheet[\"A1\"].value = \"Import data with Xlwings\"\n",
    "book.save(r\"export\\sample_with_invisible.xlsx\")\n",
    "book.close()\n",
    "app.quit()"
   ]
  },
  {
   "cell_type": "markdown",
   "metadata": {},
   "source": [
    "#### run with template"
   ]
  },
  {
   "cell_type": "code",
   "execution_count": null,
   "metadata": {},
   "outputs": [],
   "source": [
    "import xlwings as xw \n",
    "\n",
    "app = xw.App(visible=False)\n",
    "book = xw.Book(r\"D:\\My Documents\\Desktop\\python_office_11_OCT_2023\\src\\data\\xl_wing_template.xlsx\")\n",
    "sheet = book.sheets('Sheet1')\n",
    "sheet[\"A1\"].value = data\n",
    "book.save(r\"export\\sample_with_template.xlsx\")\n",
    "book.close()\n",
    "app.quit()"
   ]
  }
 ],
 "metadata": {
  "kernelspec": {
   "display_name": "Python 3",
   "language": "python",
   "name": "python3"
  },
  "language_info": {
   "codemirror_mode": {
    "name": "ipython",
    "version": 3
   },
   "file_extension": ".py",
   "mimetype": "text/x-python",
   "name": "python",
   "nbconvert_exporter": "python",
   "pygments_lexer": "ipython3",
   "version": "3.12.0"
  },
  "orig_nbformat": 4
 },
 "nbformat": 4,
 "nbformat_minor": 2
}
