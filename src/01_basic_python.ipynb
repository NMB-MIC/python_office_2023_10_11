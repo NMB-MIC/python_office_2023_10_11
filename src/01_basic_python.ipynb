{
 "cells": [
  {
   "cell_type": "markdown",
   "metadata": {},
   "source": [
    "# Basic python"
   ]
  },
  {
   "cell_type": "markdown",
   "metadata": {},
   "source": [
    "#### Variables"
   ]
  },
  {
   "cell_type": "code",
   "execution_count": 6,
   "metadata": {},
   "outputs": [
    {
     "name": "stdout",
     "output_type": "stream",
     "text": [
      "Hello world\n",
      "Hello world1\n",
      "Hello world2\n"
     ]
    }
   ],
   "source": [
    "print(\"Hello world\")\n",
    "\n",
    "msg = \"Hello world1\"\n",
    "print(msg)\n",
    "\n",
    "msg = \"Hello world2\"\n",
    "print(msg)"
   ]
  },
  {
   "cell_type": "code",
   "execution_count": null,
   "metadata": {},
   "outputs": [],
   "source": [
    "n = \"suraphop\"\n",
    "name = \"suraphop\"\n",
    "first_name = \"suraphop\"\n",
    "firstname = \"suraphop\""
   ]
  },
  {
   "cell_type": "code",
   "execution_count": null,
   "metadata": {},
   "outputs": [],
   "source": [
    "#example employee number\n",
    "employee_number = \"J6639\"\n",
    "emp_number = \"J6639\"\n",
    "emp_no = \"J6639\"\n",
    "emp = \"J6639\""
   ]
  },
  {
   "cell_type": "code",
   "execution_count": 11,
   "metadata": {},
   "outputs": [],
   "source": [
    "#1name= \"suraphop\"\n",
    "name_1= \"suraphop\"\n",
    "#$name = \"suraphop\""
   ]
  }
 ],
 "metadata": {
  "kernelspec": {
   "display_name": "Python 3",
   "language": "python",
   "name": "python3"
  },
  "language_info": {
   "codemirror_mode": {
    "name": "ipython",
    "version": 3
   },
   "file_extension": ".py",
   "mimetype": "text/x-python",
   "name": "python",
   "nbconvert_exporter": "python",
   "pygments_lexer": "ipython3",
   "version": "3.12.0"
  },
  "orig_nbformat": 4
 },
 "nbformat": 4,
 "nbformat_minor": 2
}
