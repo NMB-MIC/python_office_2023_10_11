{
 "cells": [
  {
   "cell_type": "markdown",
   "metadata": {},
   "source": [
    "# Basic python"
   ]
  },
  {
   "cell_type": "markdown",
   "metadata": {},
   "source": [
    "#### Variables"
   ]
  },
  {
   "cell_type": "code",
   "execution_count": 6,
   "metadata": {},
   "outputs": [
    {
     "name": "stdout",
     "output_type": "stream",
     "text": [
      "Hello world\n",
      "Hello world1\n",
      "Hello world2\n"
     ]
    }
   ],
   "source": [
    "print(\"Hello world\")\n",
    "\n",
    "msg = \"Hello world1\"\n",
    "print(msg)\n",
    "\n",
    "msg = \"Hello world2\"\n",
    "print(msg)"
   ]
  },
  {
   "cell_type": "code",
   "execution_count": null,
   "metadata": {},
   "outputs": [],
   "source": [
    "n = \"suraphop\"\n",
    "name = \"suraphop\"\n",
    "first_name = \"suraphop\"\n",
    "firstname = \"suraphop\""
   ]
  },
  {
   "cell_type": "code",
   "execution_count": null,
   "metadata": {},
   "outputs": [],
   "source": [
    "#example employee number\n",
    "employee_number = \"J6639\"\n",
    "emp_number = \"J6639\"\n",
    "emp_no = \"J6639\"\n",
    "emp = \"J6639\""
   ]
  },
  {
   "cell_type": "code",
   "execution_count": 11,
   "metadata": {},
   "outputs": [],
   "source": [
    "#1name= \"suraphop\"\n",
    "name_1= \"suraphop\"\n",
    "#$name = \"suraphop\""
   ]
  },
  {
   "cell_type": "markdown",
   "metadata": {},
   "source": [
    "#### Data type"
   ]
  },
  {
   "cell_type": "markdown",
   "metadata": {},
   "source": [
    "String"
   ]
  },
  {
   "cell_type": "code",
   "execution_count": 4,
   "metadata": {},
   "outputs": [
    {
     "name": "stdout",
     "output_type": "stream",
     "text": [
      "This 's easy to learn python\n",
      "This \"s easy to learn python\n"
     ]
    },
    {
     "data": {
      "text/plain": [
       "str"
      ]
     },
     "execution_count": 4,
     "metadata": {},
     "output_type": "execute_result"
    }
   ],
   "source": [
    "msg = \"Hello world\"\n",
    "msg = 'Hello world'\n",
    "\n",
    "print(\"This 's easy to learn python\")\n",
    "print('This \"s easy to learn python')\n",
    "\n",
    "type(msg)"
   ]
  },
  {
   "cell_type": "code",
   "execution_count": 11,
   "metadata": {},
   "outputs": [
    {
     "name": "stdout",
     "output_type": "stream",
     "text": [
      "helloworld\n",
      "hello world\n",
      "hello world python\n",
      "msg1 world\n",
      "hello world\n",
      "hello world python\n"
     ]
    }
   ],
   "source": [
    "msg1 = \"hello\"\n",
    "msg2 = \"world\"\n",
    "\n",
    "print(msg1+msg2)\n",
    "print(msg1+\" \"+msg2)\n",
    "print(msg1+\" \"+msg2+\" python\")\n",
    "\n",
    "#f-string function\n",
    "print(f'msg1 {msg2}')\n",
    "print(f'{msg1} {msg2}')\n",
    "print(f'{msg1} {msg2} python')"
   ]
  },
  {
   "cell_type": "code",
   "execution_count": 14,
   "metadata": {},
   "outputs": [
    {
     "name": "stdout",
     "output_type": "stream",
     "text": [
      "python\n",
      "PYTHON\n"
     ]
    }
   ],
   "source": [
    "print(\"PYTHON\".lower())\n",
    "print(\"python\".upper())"
   ]
  },
  {
   "cell_type": "markdown",
   "metadata": {},
   "source": [
    "#### Numberic"
   ]
  },
  {
   "cell_type": "code",
   "execution_count": 19,
   "metadata": {},
   "outputs": [
    {
     "name": "stdout",
     "output_type": "stream",
     "text": [
      "<class 'str'>\n",
      "41\n"
     ]
    }
   ],
   "source": [
    "msg = \"4\"\n",
    "print(type(msg))\n",
    "print(msg+\"1\")"
   ]
  },
  {
   "cell_type": "code",
   "execution_count": 27,
   "metadata": {},
   "outputs": [
    {
     "name": "stdout",
     "output_type": "stream",
     "text": [
      "<class 'int'>\n",
      "5\n"
     ]
    }
   ],
   "source": [
    "msg = 4\n",
    "print(type(msg))\n",
    "print(msg+1)"
   ]
  },
  {
   "cell_type": "code",
   "execution_count": 29,
   "metadata": {},
   "outputs": [
    {
     "name": "stdout",
     "output_type": "stream",
     "text": [
      "<class 'int'>\n",
      "6\n"
     ]
    }
   ],
   "source": [
    "msg = \"4\"\n",
    "msg_1 = int(msg)\n",
    "print(type(msg_1))\n",
    "print(msg_1+2)"
   ]
  },
  {
   "cell_type": "code",
   "execution_count": 36,
   "metadata": {},
   "outputs": [
    {
     "name": "stdout",
     "output_type": "stream",
     "text": [
      "<class 'float'>\n",
      "6.6\n",
      "<class 'float'>\n",
      "6\n",
      "7\n",
      "<class 'int'>\n"
     ]
    }
   ],
   "source": [
    "#float\n",
    "msg = 2.6\n",
    "print(type(msg))\n",
    "\n",
    "print(4+msg)\n",
    "print(type(4+msg))\n",
    "\n",
    "print(int(4+msg))\n",
    "\n",
    "print(round(4+msg))\n",
    "print(type(round(4+msg)))"
   ]
  },
  {
   "cell_type": "markdown",
   "metadata": {},
   "source": [
    "#### operator"
   ]
  },
  {
   "cell_type": "code",
   "execution_count": 37,
   "metadata": {},
   "outputs": [
    {
     "data": {
      "text/plain": [
       "7"
      ]
     },
     "execution_count": 37,
     "metadata": {},
     "output_type": "execute_result"
    }
   ],
   "source": [
    "3+4"
   ]
  },
  {
   "cell_type": "code",
   "execution_count": 38,
   "metadata": {},
   "outputs": [
    {
     "data": {
      "text/plain": [
       "-1"
      ]
     },
     "execution_count": 38,
     "metadata": {},
     "output_type": "execute_result"
    }
   ],
   "source": [
    "3-4"
   ]
  },
  {
   "cell_type": "code",
   "execution_count": 39,
   "metadata": {},
   "outputs": [
    {
     "data": {
      "text/plain": [
       "12"
      ]
     },
     "execution_count": 39,
     "metadata": {},
     "output_type": "execute_result"
    }
   ],
   "source": [
    "3*4"
   ]
  },
  {
   "cell_type": "code",
   "execution_count": 40,
   "metadata": {},
   "outputs": [
    {
     "data": {
      "text/plain": [
       "0.75"
      ]
     },
     "execution_count": 40,
     "metadata": {},
     "output_type": "execute_result"
    }
   ],
   "source": [
    "3/4"
   ]
  },
  {
   "cell_type": "code",
   "execution_count": 41,
   "metadata": {},
   "outputs": [
    {
     "data": {
      "text/plain": [
       "12"
      ]
     },
     "execution_count": 41,
     "metadata": {},
     "output_type": "execute_result"
    }
   ],
   "source": [
    "3*4"
   ]
  },
  {
   "cell_type": "code",
   "execution_count": 44,
   "metadata": {},
   "outputs": [
    {
     "name": "stdout",
     "output_type": "stream",
     "text": [
      "1.3333333333333333\n",
      "1.33\n",
      "1.33333\n"
     ]
    }
   ],
   "source": [
    "print(4/3)\n",
    "print(round(4/3,2))\n",
    "print(round(4/3,5))"
   ]
  },
  {
   "cell_type": "markdown",
   "metadata": {},
   "source": [
    "## Data structures"
   ]
  },
  {
   "cell_type": "markdown",
   "metadata": {},
   "source": [
    "#### Lists"
   ]
  },
  {
   "cell_type": "code",
   "execution_count": 48,
   "metadata": {},
   "outputs": [
    {
     "name": "stdout",
     "output_type": "stream",
     "text": [
      "<class 'list'>\n"
     ]
    }
   ],
   "source": [
    "file_name = \"one.xlsx\"\n",
    "\n",
    "file_names = [\"one.xlsx\",\"two.xlsx\",\"three.xlsx\"]\n",
    "file_names = [1,2,3]\n",
    "file_names = [\"one.xlsx\",2,\"three.xlsx\"]\n",
    "print(type(file_names))"
   ]
  },
  {
   "cell_type": "code",
   "execution_count": 56,
   "metadata": {},
   "outputs": [
    {
     "name": "stdout",
     "output_type": "stream",
     "text": [
      "['one.xlsx', 2, 'three.xlsx']\n",
      "one.xlsx\n",
      "<class 'str'>\n",
      "2\n",
      "three.xlsx\n",
      "three.xlsx\n",
      "2\n",
      "one.xlsx\n"
     ]
    }
   ],
   "source": [
    "#index\n",
    "print(file_names)\n",
    "print(file_names[0])\n",
    "print(type(file_names[0]))\n",
    "print(file_names[1])\n",
    "print(file_names[2])\n",
    "\n",
    "#reverse index\n",
    "print(file_names[-1])\n",
    "print(file_names[-2])\n",
    "print(file_names[-3])"
   ]
  },
  {
   "cell_type": "code",
   "execution_count": 68,
   "metadata": {},
   "outputs": [
    {
     "name": "stdout",
     "output_type": "stream",
     "text": [
      "['one.xlsx']\n",
      "<class 'list'>\n",
      "['one.xlsx', 2]\n",
      "['one.xlsx', 2, 'three.xlsx']\n",
      "['one.xlsx', 2]\n",
      "['one.xlsx']\n",
      "['one.xlsx']\n",
      "[2, 'three.xlsx']\n",
      "['one.xlsx', 2, 'three.xlsx']\n",
      "['one.xlsx', 2, 'three.xlsx']\n"
     ]
    }
   ],
   "source": [
    "#slice\n",
    "\n",
    "print(file_names[0:1])\n",
    "print(type(file_names[0:1]))\n",
    "print(file_names[0:2])\n",
    "print(file_names[0:3])\n",
    "\n",
    "print(file_names[0:-1])\n",
    "print(file_names[0:-2])\n",
    "\n",
    "print(file_names[:1])\n",
    "print(file_names[1:])\n",
    "print(file_names[:])\n",
    "print(file_names)"
   ]
  },
  {
   "cell_type": "markdown",
   "metadata": {},
   "source": [
    "#### Dictionaries"
   ]
  },
  {
   "cell_type": "code",
   "execution_count": 72,
   "metadata": {},
   "outputs": [
    {
     "name": "stdout",
     "output_type": "stream",
     "text": [
      "<class 'dict'>\n",
      "1.1152\n",
      "1.2452\n",
      "0.6161\n"
     ]
    }
   ],
   "source": [
    "exchange_rates = {\"EURUSD\":1.1152 , \"GBPUSD\":1.2452 , \"AUDUSD\": 0.6161}\n",
    "print(type(exchange_rates))\n",
    "\n",
    "print(exchange_rates[\"EURUSD\"])\n",
    "print(exchange_rates[\"GBPUSD\"])\n",
    "print(exchange_rates[\"AUDUSD\"])"
   ]
  },
  {
   "cell_type": "markdown",
   "metadata": {},
   "source": [
    "#### Tuple"
   ]
  },
  {
   "cell_type": "code",
   "execution_count": 77,
   "metadata": {},
   "outputs": [
    {
     "name": "stdout",
     "output_type": "stream",
     "text": [
      "<class 'tuple'>\n",
      "<class 'list'>\n",
      "['EUR', 'GBP', 'AUD', 'XUD']\n"
     ]
    }
   ],
   "source": [
    "currencies = (\"EUR\",\"GBP\",\"AUD\")\n",
    "print(type(currencies))\n",
    "\n",
    "list_currencies = [\"EUR\",\"GBP\",\"AUD\"]\n",
    "print(type(list_currencies))\n",
    "\n",
    "list_currencies.append(\"XUD\")\n",
    "print(list_currencies)\n",
    "\n",
    "# currencies.append(\"XUD\")\n",
    "# print(currencies)"
   ]
  },
  {
   "cell_type": "markdown",
   "metadata": {},
   "source": [
    "## Control flow"
   ]
  },
  {
   "cell_type": "markdown",
   "metadata": {},
   "source": [
    "#### if statement"
   ]
  },
  {
   "cell_type": "code",
   "execution_count": 83,
   "metadata": {},
   "outputs": [
    {
     "name": "stdout",
     "output_type": "stream",
     "text": [
      "False\n",
      "True\n",
      "False\n",
      "True\n",
      "False\n",
      "True\n"
     ]
    }
   ],
   "source": [
    "# > ,< ,<= ,>= ,==, !=\n",
    "\n",
    "i=6\n",
    "print(i<5)\n",
    "print(i>5)\n",
    "print(i<=5)\n",
    "print(i>=5)\n",
    "print(i==5)\n",
    "print(i!=5)"
   ]
  },
  {
   "cell_type": "code",
   "execution_count": 88,
   "metadata": {},
   "outputs": [
    {
     "name": "stdout",
     "output_type": "stream",
     "text": [
      "i is smaller than 5\n"
     ]
    }
   ],
   "source": [
    "i=2 \n",
    "\n",
    "if i<5:\n",
    "    print(\"i is smaller than 5\")"
   ]
  },
  {
   "cell_type": "code",
   "execution_count": 94,
   "metadata": {},
   "outputs": [
    {
     "name": "stdout",
     "output_type": "stream",
     "text": [
      "i is between 10 and 15\n"
     ]
    }
   ],
   "source": [
    "i =14\n",
    "\n",
    "if i<5:\n",
    "    print(\"i is smaller than 5\")\n",
    "elif i<=10:\n",
    "    print(\"i is between 5 and 10\")\n",
    "elif i<=15:\n",
    "    print(\"i is between 10 and 15\")\n",
    "else:\n",
    "    print(\"out of range\")"
   ]
  },
  {
   "cell_type": "markdown",
   "metadata": {},
   "source": [
    "#### for loop"
   ]
  },
  {
   "cell_type": "code",
   "execution_count": 99,
   "metadata": {},
   "outputs": [
    {
     "data": {
      "text/plain": [
       "'AUD'"
      ]
     },
     "execution_count": 99,
     "metadata": {},
     "output_type": "execute_result"
    }
   ],
   "source": [
    "currencies = [\"USD\",\"HKD\",\"AUD\"]\n",
    "currencies[0]\n",
    "currencies[1]\n",
    "currencies[2]"
   ]
  },
  {
   "cell_type": "code",
   "execution_count": 103,
   "metadata": {},
   "outputs": [
    {
     "name": "stdout",
     "output_type": "stream",
     "text": [
      "USD\n",
      "HKD\n",
      "AUD\n"
     ]
    }
   ],
   "source": [
    "for currencie in currencies:\n",
    "    print(currencie)"
   ]
  },
  {
   "cell_type": "code",
   "execution_count": 104,
   "metadata": {},
   "outputs": [
    {
     "name": "stdout",
     "output_type": "stream",
     "text": [
      "USD\n",
      "HKD\n",
      "AUD\n"
     ]
    }
   ],
   "source": [
    "for i in currencies:\n",
    "    print(i)"
   ]
  },
  {
   "cell_type": "code",
   "execution_count": 115,
   "metadata": {},
   "outputs": [
    {
     "name": "stdout",
     "output_type": "stream",
     "text": [
      "HKD\n"
     ]
    }
   ],
   "source": [
    "for currencie in currencies:\n",
    "    if currencie == \"HKD\":\n",
    "        print(currencie)"
   ]
  },
  {
   "cell_type": "code",
   "execution_count": 106,
   "metadata": {},
   "outputs": [
    {
     "name": "stdout",
     "output_type": "stream",
     "text": [
      "USD\n",
      "AUD\n"
     ]
    }
   ],
   "source": [
    "for currencie in currencies:\n",
    "    if currencie != \"HKD\":\n",
    "        print(currencie)"
   ]
  },
  {
   "cell_type": "code",
   "execution_count": 107,
   "metadata": {},
   "outputs": [
    {
     "name": "stdout",
     "output_type": "stream",
     "text": [
      "EURUSD\n",
      "GBPUSD\n",
      "AUDUSD\n"
     ]
    }
   ],
   "source": [
    "exhange_rates = {\"EURUSD\":1.1152,\"GBPUSD\":1.2452,\"AUDUSD\":0.6161}\n",
    "\n",
    "for exhange_rate in exhange_rates:\n",
    "    print(exhange_rate)"
   ]
  },
  {
   "cell_type": "code",
   "execution_count": 109,
   "metadata": {},
   "outputs": [
    {
     "name": "stdout",
     "output_type": "stream",
     "text": [
      "EURUSD\n",
      "GBPUSD\n",
      "AUDUSD\n"
     ]
    }
   ],
   "source": [
    "for exhange_rate in exhange_rates.keys():\n",
    "    print(exhange_rate)"
   ]
  },
  {
   "cell_type": "code",
   "execution_count": 108,
   "metadata": {},
   "outputs": [
    {
     "name": "stdout",
     "output_type": "stream",
     "text": [
      "1.1152\n",
      "1.2452\n",
      "0.6161\n"
     ]
    }
   ],
   "source": [
    "for exhange_rate in exhange_rates.values():\n",
    "    print(exhange_rate)"
   ]
  },
  {
   "cell_type": "code",
   "execution_count": 110,
   "metadata": {},
   "outputs": [
    {
     "name": "stdout",
     "output_type": "stream",
     "text": [
      "('EURUSD', 1.1152)\n",
      "('GBPUSD', 1.2452)\n",
      "('AUDUSD', 0.6161)\n"
     ]
    }
   ],
   "source": [
    "for exhange_rate in exhange_rates.items():\n",
    "    print(exhange_rate)"
   ]
  },
  {
   "cell_type": "markdown",
   "metadata": {},
   "source": [
    "#### loop structure"
   ]
  },
  {
   "cell_type": "code",
   "execution_count": 116,
   "metadata": {},
   "outputs": [
    {
     "name": "stdout",
     "output_type": "stream",
     "text": [
      "0\n",
      "1\n",
      "2\n",
      "3\n",
      "4\n"
     ]
    }
   ],
   "source": [
    "for i in range(5):\n",
    "    print(i)"
   ]
  },
  {
   "cell_type": "code",
   "execution_count": 117,
   "metadata": {},
   "outputs": [
    {
     "name": "stdout",
     "output_type": "stream",
     "text": [
      "0\n",
      "1\n",
      "2\n",
      "3\n",
      "4\n"
     ]
    }
   ],
   "source": [
    "for i in range(10):\n",
    "    if i==5:\n",
    "        break\n",
    "    else:\n",
    "        print(i)"
   ]
  },
  {
   "cell_type": "code",
   "execution_count": 118,
   "metadata": {},
   "outputs": [
    {
     "name": "stdout",
     "output_type": "stream",
     "text": [
      "0\n",
      "1\n",
      "2\n",
      "3\n",
      "4\n",
      "6\n",
      "7\n",
      "8\n",
      "9\n"
     ]
    }
   ],
   "source": [
    "for i in range(10):\n",
    "    if i==5:\n",
    "        continue\n",
    "    else:\n",
    "        print(i)"
   ]
  },
  {
   "cell_type": "markdown",
   "metadata": {},
   "source": [
    "## Special function"
   ]
  },
  {
   "cell_type": "markdown",
   "metadata": {},
   "source": [
    "#### Try except"
   ]
  },
  {
   "cell_type": "code",
   "execution_count": 120,
   "metadata": {},
   "outputs": [
    {
     "name": "stdout",
     "output_type": "stream",
     "text": [
      "error\n"
     ]
    }
   ],
   "source": [
    "try:\n",
    "    msg = \"hello world\"\n",
    "    int(msg)\n",
    "except:\n",
    "    print(\"error\")"
   ]
  },
  {
   "cell_type": "code",
   "execution_count": 122,
   "metadata": {},
   "outputs": [
    {
     "name": "stdout",
     "output_type": "stream",
     "text": [
      "error : invalid literal for int() with base 10: 'hello world'\n"
     ]
    }
   ],
   "source": [
    "try:\n",
    "    msg = \"hello world\"\n",
    "    int(msg)\n",
    "except Exception as error:\n",
    "    print(f\"error : {error}\")"
   ]
  },
  {
   "cell_type": "markdown",
   "metadata": {},
   "source": [
    "#### Split"
   ]
  },
  {
   "cell_type": "code",
   "execution_count": 127,
   "metadata": {},
   "outputs": [
    {
     "name": "stdout",
     "output_type": "stream",
     "text": [
      "['test', 'xlsx']\n",
      "test\n",
      "xlsx\n"
     ]
    }
   ],
   "source": [
    "msg = \"test.xlsx\"\n",
    "\n",
    "list_msg = msg.split(\".\")\n",
    "print(list_msg)\n",
    "print(list_msg[0])\n",
    "print(list_msg[-1])"
   ]
  },
  {
   "cell_type": "code",
   "execution_count": 131,
   "metadata": {},
   "outputs": [
    {
     "name": "stdout",
     "output_type": "stream",
     "text": [
      "nat\n",
      "gd\n",
      "ic02r\n"
     ]
    }
   ],
   "source": [
    "msg = \"nat_mcstatus_gd_ic02r.txt\"\n",
    "division = None\n",
    "process = None \n",
    "mc_name = None\n",
    "\n",
    "msg_lists = msg.split(\"_\")\n",
    "division = msg_lists[0]\n",
    "process = msg_lists[-2]\n",
    "mc_name= msg_lists[-1].split(\".\")[0]\n",
    "\n",
    "print(division)\n",
    "print(process)\n",
    "print(mc_name)"
   ]
  },
  {
   "cell_type": "markdown",
   "metadata": {},
   "source": [
    "#### len"
   ]
  },
  {
   "cell_type": "code",
   "execution_count": 132,
   "metadata": {},
   "outputs": [
    {
     "data": {
      "text/plain": [
       "8"
      ]
     },
     "execution_count": 132,
     "metadata": {},
     "output_type": "execute_result"
    }
   ],
   "source": [
    "msg = \"suraphop\"\n",
    "len(msg)"
   ]
  },
  {
   "cell_type": "markdown",
   "metadata": {},
   "source": [
    "#### Strip"
   ]
  },
  {
   "cell_type": "code",
   "execution_count": 138,
   "metadata": {},
   "outputs": [
    {
     "name": "stdout",
     "output_type": "stream",
     "text": [
      "10\n",
      "8\n",
      "Suraphop\n"
     ]
    }
   ],
   "source": [
    "msg = \" Suraphop \"\n",
    "print(len(msg))\n",
    "msg = msg.strip()\n",
    "print(len(msg))\n",
    "print(msg)"
   ]
  }
 ],
 "metadata": {
  "kernelspec": {
   "display_name": "Python 3",
   "language": "python",
   "name": "python3"
  },
  "language_info": {
   "codemirror_mode": {
    "name": "ipython",
    "version": 3
   },
   "file_extension": ".py",
   "mimetype": "text/x-python",
   "name": "python",
   "nbconvert_exporter": "python",
   "pygments_lexer": "ipython3",
   "version": "3.12.0"
  },
  "orig_nbformat": 4
 },
 "nbformat": 4,
 "nbformat_minor": 2
}
