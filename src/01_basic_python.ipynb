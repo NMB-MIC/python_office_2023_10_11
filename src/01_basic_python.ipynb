{
 "cells": [
  {
   "cell_type": "markdown",
   "metadata": {},
   "source": [
    "# Basic python"
   ]
  },
  {
   "cell_type": "markdown",
   "metadata": {},
   "source": [
    "#### Variables"
   ]
  },
  {
   "cell_type": "code",
   "execution_count": null,
   "metadata": {},
   "outputs": [],
   "source": [
    "print(\"Hello world\")\n",
    "\n",
    "msg = \"Hello world1\"\n",
    "print(msg)\n",
    "\n",
    "msg = \"Hello world2\"\n",
    "print(msg)"
   ]
  },
  {
   "cell_type": "code",
   "execution_count": null,
   "metadata": {},
   "outputs": [],
   "source": [
    "n = \"suraphop\"\n",
    "name = \"suraphop\"\n",
    "first_name = \"suraphop\"\n",
    "firstname = \"suraphop\""
   ]
  },
  {
   "cell_type": "code",
   "execution_count": null,
   "metadata": {},
   "outputs": [],
   "source": [
    "#example employee number\n",
    "employee_number = \"J6639\"\n",
    "emp_number = \"J6639\"\n",
    "emp_no = \"J6639\"\n",
    "emp = \"J6639\""
   ]
  },
  {
   "cell_type": "code",
   "execution_count": null,
   "metadata": {},
   "outputs": [],
   "source": [
    "#1name= \"suraphop\"\n",
    "name_1= \"suraphop\"\n",
    "#$name = \"suraphop\""
   ]
  },
  {
   "cell_type": "markdown",
   "metadata": {},
   "source": [
    "#### Data type"
   ]
  },
  {
   "cell_type": "markdown",
   "metadata": {},
   "source": [
    "String"
   ]
  },
  {
   "cell_type": "code",
   "execution_count": null,
   "metadata": {},
   "outputs": [],
   "source": [
    "msg = \"Hello world\"\n",
    "msg = 'Hello world'\n",
    "\n",
    "print(\"This 's easy to learn python\")\n",
    "print('This \"s easy to learn python')\n",
    "\n",
    "type(msg)"
   ]
  },
  {
   "cell_type": "code",
   "execution_count": null,
   "metadata": {},
   "outputs": [],
   "source": [
    "msg1 = \"hello\"\n",
    "msg2 = \"world\"\n",
    "\n",
    "print(msg1+msg2)\n",
    "print(msg1+\" \"+msg2)\n",
    "print(msg1+\" \"+msg2+\" python\")\n",
    "\n",
    "#f-string function\n",
    "print(f'msg1 {msg2}')\n",
    "print(f'{msg1} {msg2}')\n",
    "print(f'{msg1} {msg2} python')"
   ]
  },
  {
   "cell_type": "code",
   "execution_count": null,
   "metadata": {},
   "outputs": [],
   "source": [
    "print(\"PYTHON\".lower())\n",
    "print(\"python\".upper())"
   ]
  },
  {
   "cell_type": "markdown",
   "metadata": {},
   "source": [
    "#### Numberic"
   ]
  },
  {
   "cell_type": "code",
   "execution_count": null,
   "metadata": {},
   "outputs": [],
   "source": [
    "msg = \"4\"\n",
    "print(type(msg))\n",
    "print(msg+\"1\")"
   ]
  },
  {
   "cell_type": "code",
   "execution_count": null,
   "metadata": {},
   "outputs": [],
   "source": [
    "msg = 4\n",
    "print(type(msg))\n",
    "print(msg+1)"
   ]
  },
  {
   "cell_type": "code",
   "execution_count": null,
   "metadata": {},
   "outputs": [],
   "source": [
    "msg = \"4\"\n",
    "msg_1 = int(msg)\n",
    "print(type(msg_1))\n",
    "print(msg_1+2)"
   ]
  },
  {
   "cell_type": "code",
   "execution_count": null,
   "metadata": {},
   "outputs": [],
   "source": [
    "#float\n",
    "msg = 2.6\n",
    "print(type(msg))\n",
    "\n",
    "print(4+msg)\n",
    "print(type(4+msg))\n",
    "\n",
    "print(int(4+msg))\n",
    "\n",
    "print(round(4+msg))\n",
    "print(type(round(4+msg)))"
   ]
  },
  {
   "cell_type": "markdown",
   "metadata": {},
   "source": [
    "#### operator"
   ]
  },
  {
   "cell_type": "code",
   "execution_count": null,
   "metadata": {},
   "outputs": [],
   "source": [
    "3+4"
   ]
  },
  {
   "cell_type": "code",
   "execution_count": null,
   "metadata": {},
   "outputs": [],
   "source": [
    "3-4"
   ]
  },
  {
   "cell_type": "code",
   "execution_count": null,
   "metadata": {},
   "outputs": [],
   "source": [
    "3*4"
   ]
  },
  {
   "cell_type": "code",
   "execution_count": null,
   "metadata": {},
   "outputs": [],
   "source": [
    "3/4"
   ]
  },
  {
   "cell_type": "code",
   "execution_count": null,
   "metadata": {},
   "outputs": [],
   "source": [
    "3*4"
   ]
  },
  {
   "cell_type": "code",
   "execution_count": null,
   "metadata": {},
   "outputs": [],
   "source": [
    "print(4/3)\n",
    "print(round(4/3,2))\n",
    "print(round(4/3,5))"
   ]
  },
  {
   "cell_type": "markdown",
   "metadata": {},
   "source": [
    "## Data structures"
   ]
  },
  {
   "cell_type": "markdown",
   "metadata": {},
   "source": [
    "#### Lists"
   ]
  },
  {
   "cell_type": "code",
   "execution_count": null,
   "metadata": {},
   "outputs": [],
   "source": [
    "file_name = \"one.xlsx\"\n",
    "\n",
    "file_names = [\"one.xlsx\",\"two.xlsx\",\"three.xlsx\"]\n",
    "file_names = [1,2,3]\n",
    "file_names = [\"one.xlsx\",2,\"three.xlsx\"]\n",
    "print(type(file_names))"
   ]
  },
  {
   "cell_type": "code",
   "execution_count": null,
   "metadata": {},
   "outputs": [],
   "source": [
    "#index\n",
    "print(file_names)\n",
    "print(file_names[0])\n",
    "print(type(file_names[0]))\n",
    "print(file_names[1])\n",
    "print(file_names[2])\n",
    "\n",
    "#reverse index\n",
    "print(file_names[-1])\n",
    "print(file_names[-2])\n",
    "print(file_names[-3])"
   ]
  },
  {
   "cell_type": "code",
   "execution_count": null,
   "metadata": {},
   "outputs": [],
   "source": [
    "#slice\n",
    "\n",
    "print(file_names[0:1])\n",
    "print(type(file_names[0:1]))\n",
    "print(file_names[0:2])\n",
    "print(file_names[0:3])\n",
    "\n",
    "print(file_names[0:-1])\n",
    "print(file_names[0:-2])\n",
    "\n",
    "print(file_names[:1])\n",
    "print(file_names[1:])\n",
    "print(file_names[:])\n",
    "print(file_names)"
   ]
  },
  {
   "cell_type": "markdown",
   "metadata": {},
   "source": [
    "#### Dictionaries"
   ]
  },
  {
   "cell_type": "code",
   "execution_count": null,
   "metadata": {},
   "outputs": [],
   "source": [
    "exchange_rates = {\"EURUSD\":1.1152 , \"GBPUSD\":1.2452 , \"AUDUSD\": 0.6161}\n",
    "print(type(exchange_rates))\n",
    "\n",
    "print(exchange_rates[\"EURUSD\"])\n",
    "print(exchange_rates[\"GBPUSD\"])\n",
    "print(exchange_rates[\"AUDUSD\"])"
   ]
  },
  {
   "cell_type": "markdown",
   "metadata": {},
   "source": [
    "#### Tuple"
   ]
  },
  {
   "cell_type": "code",
   "execution_count": null,
   "metadata": {},
   "outputs": [],
   "source": [
    "currencies = (\"EUR\",\"GBP\",\"AUD\")\n",
    "print(type(currencies))\n",
    "\n",
    "list_currencies = [\"EUR\",\"GBP\",\"AUD\"]\n",
    "print(type(list_currencies))\n",
    "\n",
    "list_currencies.append(\"XUD\")\n",
    "print(list_currencies)\n",
    "\n",
    "# currencies.append(\"XUD\")\n",
    "# print(currencies)"
   ]
  },
  {
   "cell_type": "markdown",
   "metadata": {},
   "source": [
    "## Control flow"
   ]
  },
  {
   "cell_type": "markdown",
   "metadata": {},
   "source": [
    "#### if statement"
   ]
  },
  {
   "cell_type": "code",
   "execution_count": null,
   "metadata": {},
   "outputs": [],
   "source": [
    "# > ,< ,<= ,>= ,==, !=\n",
    "\n",
    "i=6\n",
    "print(i<5)\n",
    "print(i>5)\n",
    "print(i<=5)\n",
    "print(i>=5)\n",
    "print(i==5)\n",
    "print(i!=5)"
   ]
  },
  {
   "cell_type": "code",
   "execution_count": null,
   "metadata": {},
   "outputs": [],
   "source": [
    "i=2 \n",
    "\n",
    "if i<5:\n",
    "    print(\"i is smaller than 5\")"
   ]
  },
  {
   "cell_type": "code",
   "execution_count": null,
   "metadata": {},
   "outputs": [],
   "source": [
    "i =14\n",
    "\n",
    "if i<5:\n",
    "    print(\"i is smaller than 5\")\n",
    "elif i<=10:\n",
    "    print(\"i is between 5 and 10\")\n",
    "elif i<=15:\n",
    "    print(\"i is between 10 and 15\")\n",
    "else:\n",
    "    print(\"out of range\")"
   ]
  },
  {
   "cell_type": "markdown",
   "metadata": {},
   "source": [
    "#### for loop"
   ]
  },
  {
   "cell_type": "code",
   "execution_count": null,
   "metadata": {},
   "outputs": [],
   "source": [
    "currencies = [\"USD\",\"HKD\",\"AUD\"]\n",
    "currencies[0]\n",
    "currencies[1]\n",
    "currencies[2]"
   ]
  },
  {
   "cell_type": "code",
   "execution_count": null,
   "metadata": {},
   "outputs": [],
   "source": [
    "for currencie in currencies:\n",
    "    print(currencie)"
   ]
  },
  {
   "cell_type": "code",
   "execution_count": null,
   "metadata": {},
   "outputs": [],
   "source": [
    "for i in currencies:\n",
    "    print(i)"
   ]
  },
  {
   "cell_type": "code",
   "execution_count": null,
   "metadata": {},
   "outputs": [],
   "source": [
    "for currencie in currencies:\n",
    "    if currencie == \"HKD\":\n",
    "        print(currencie)"
   ]
  },
  {
   "cell_type": "code",
   "execution_count": null,
   "metadata": {},
   "outputs": [],
   "source": [
    "for currencie in currencies:\n",
    "    if currencie != \"HKD\":\n",
    "        print(currencie)"
   ]
  },
  {
   "cell_type": "code",
   "execution_count": null,
   "metadata": {},
   "outputs": [],
   "source": [
    "exhange_rates = {\"EURUSD\":1.1152,\"GBPUSD\":1.2452,\"AUDUSD\":0.6161}\n",
    "\n",
    "for exhange_rate in exhange_rates:\n",
    "    print(exhange_rate)"
   ]
  },
  {
   "cell_type": "code",
   "execution_count": null,
   "metadata": {},
   "outputs": [],
   "source": [
    "for exhange_rate in exhange_rates.keys():\n",
    "    print(exhange_rate)"
   ]
  },
  {
   "cell_type": "code",
   "execution_count": null,
   "metadata": {},
   "outputs": [],
   "source": [
    "for exhange_rate in exhange_rates.values():\n",
    "    print(exhange_rate)"
   ]
  },
  {
   "cell_type": "code",
   "execution_count": null,
   "metadata": {},
   "outputs": [],
   "source": [
    "for exhange_rate in exhange_rates.items():\n",
    "    print(exhange_rate)"
   ]
  },
  {
   "cell_type": "markdown",
   "metadata": {},
   "source": [
    "#### loop structure"
   ]
  },
  {
   "cell_type": "code",
   "execution_count": null,
   "metadata": {},
   "outputs": [],
   "source": [
    "for i in range(5):\n",
    "    print(i)"
   ]
  },
  {
   "cell_type": "code",
   "execution_count": null,
   "metadata": {},
   "outputs": [],
   "source": [
    "for i in range(10):\n",
    "    if i==5:\n",
    "        break\n",
    "    else:\n",
    "        print(i)"
   ]
  },
  {
   "cell_type": "code",
   "execution_count": null,
   "metadata": {},
   "outputs": [],
   "source": [
    "for i in range(10):\n",
    "    if i==5:\n",
    "        continue\n",
    "    else:\n",
    "        print(i)"
   ]
  },
  {
   "cell_type": "markdown",
   "metadata": {},
   "source": [
    "## Special function"
   ]
  },
  {
   "cell_type": "markdown",
   "metadata": {},
   "source": [
    "#### Try except"
   ]
  },
  {
   "cell_type": "code",
   "execution_count": null,
   "metadata": {},
   "outputs": [],
   "source": [
    "try:\n",
    "    msg = \"hello world\"\n",
    "    int(msg)\n",
    "except:\n",
    "    print(\"error\")"
   ]
  },
  {
   "cell_type": "code",
   "execution_count": null,
   "metadata": {},
   "outputs": [],
   "source": [
    "try:\n",
    "    msg = \"hello world\"\n",
    "    int(msg)\n",
    "except Exception as error:\n",
    "    print(f\"error : {error}\")"
   ]
  },
  {
   "cell_type": "markdown",
   "metadata": {},
   "source": [
    "#### Split"
   ]
  },
  {
   "cell_type": "code",
   "execution_count": null,
   "metadata": {},
   "outputs": [],
   "source": [
    "msg = \"test.xlsx\"\n",
    "\n",
    "list_msg = msg.split(\".\")\n",
    "print(list_msg)\n",
    "print(list_msg[0])\n",
    "print(list_msg[-1])"
   ]
  },
  {
   "cell_type": "code",
   "execution_count": null,
   "metadata": {},
   "outputs": [],
   "source": [
    "msg = \"nat_mcstatus_gd_ic02r.txt\"\n",
    "division = None\n",
    "process = None \n",
    "mc_name = None\n",
    "\n",
    "msg_lists = msg.split(\"_\")\n",
    "division = msg_lists[0]\n",
    "process = msg_lists[-2]\n",
    "mc_name= msg_lists[-1].split(\".\")[0]\n",
    "\n",
    "print(division)\n",
    "print(process)\n",
    "print(mc_name)"
   ]
  },
  {
   "cell_type": "markdown",
   "metadata": {},
   "source": [
    "#### len"
   ]
  },
  {
   "cell_type": "code",
   "execution_count": null,
   "metadata": {},
   "outputs": [],
   "source": [
    "msg = \"suraphop\"\n",
    "len(msg)"
   ]
  },
  {
   "cell_type": "markdown",
   "metadata": {},
   "source": [
    "#### Strip"
   ]
  },
  {
   "cell_type": "code",
   "execution_count": null,
   "metadata": {},
   "outputs": [],
   "source": [
    "msg = \" Suraphop \"\n",
    "print(len(msg))\n",
    "msg = msg.strip()\n",
    "print(len(msg))\n",
    "print(msg)"
   ]
  },
  {
   "cell_type": "markdown",
   "metadata": {},
   "source": [
    "## Function"
   ]
  },
  {
   "cell_type": "code",
   "execution_count": null,
   "metadata": {},
   "outputs": [],
   "source": [
    "#fucntion\n",
    "def test():\n",
    "    \"\"\"for print hello world\"\"\"\n",
    "    print(\"hello world\")\n",
    "\n",
    "test()"
   ]
  },
  {
   "cell_type": "code",
   "execution_count": null,
   "metadata": {},
   "outputs": [],
   "source": [
    "def calulation_plus():\n",
    "    \"\"\"plus digit\"\"\"\n",
    "    digit_1 = 10\n",
    "    ditgit_2 = 15\n",
    "    result = digit_1+ditgit_2\n",
    "    print(result)\n",
    "\n",
    "calulation_plus()\n",
    "\n",
    "#print(digit_1)"
   ]
  },
  {
   "cell_type": "code",
   "execution_count": 9,
   "metadata": {},
   "outputs": [
    {
     "name": "stdout",
     "output_type": "stream",
     "text": [
      "74\n",
      "33\n"
     ]
    }
   ],
   "source": [
    "def calulation_plus(digit_1,ditgit_2):\n",
    "    \"\"\"plus digit\"\"\"\n",
    "    result = digit_1+ditgit_2\n",
    "    print(result)\n",
    "\n",
    "calulation_plus(50,24)\n",
    "calulation_plus(23,10)"
   ]
  },
  {
   "cell_type": "code",
   "execution_count": 11,
   "metadata": {},
   "outputs": [
    {
     "name": "stdout",
     "output_type": "stream",
     "text": [
      "26\n",
      "-26\n"
     ]
    }
   ],
   "source": [
    "def calulation_minus(digit_1,ditgit_2):\n",
    "    \"\"\"minus digit\"\"\"\n",
    "    result = digit_1-ditgit_2\n",
    "    print(result)\n",
    "\n",
    "calulation_minus(50,24)\n",
    "calulation_minus(24,50)"
   ]
  },
  {
   "cell_type": "code",
   "execution_count": 19,
   "metadata": {},
   "outputs": [
    {
     "data": {
      "text/plain": [
       "-36"
      ]
     },
     "execution_count": 19,
     "metadata": {},
     "output_type": "execute_result"
    }
   ],
   "source": [
    "def calulation_minus(digit_1,ditgit_2):\n",
    "    \"\"\"minus digit\"\"\"\n",
    "    result = digit_1-ditgit_2\n",
    "    #print(result)\n",
    "    return result\n",
    "\n",
    "calulation_minus(ditgit_2=50,digit_1=24)\n",
    "calulation_minus(24,50)\n",
    "calulation_minus(calulation_minus(ditgit_2=50,digit_1=24),10)"
   ]
  },
  {
   "cell_type": "code",
   "execution_count": 11,
   "metadata": {},
   "outputs": [
    {
     "data": {
      "text/plain": [
       "30"
      ]
     },
     "execution_count": 11,
     "metadata": {},
     "output_type": "execute_result"
    }
   ],
   "source": [
    "def calulation_minus(digit_1,ditgit_2=24):\n",
    "    \"\"\"minus digit\"\"\"\n",
    "    result = digit_1-ditgit_2\n",
    "    #print(result)\n",
    "    return result\n",
    "    \n",
    "#calulation_minus(50)\n",
    "calulation_minus(50,20)"
   ]
  },
  {
   "cell_type": "markdown",
   "metadata": {},
   "source": [
    "## Mudule"
   ]
  },
  {
   "cell_type": "code",
   "execution_count": 2,
   "metadata": {},
   "outputs": [
    {
     "name": "stdout",
     "output_type": "stream",
     "text": [
      "22\n",
      "68\n"
     ]
    }
   ],
   "source": [
    "import calculation\n",
    "\n",
    "print(calculation.calulation_minus(45,23))\n",
    "print(calculation.calulation_plus(45,23))"
   ]
  },
  {
   "cell_type": "code",
   "execution_count": 4,
   "metadata": {},
   "outputs": [
    {
     "data": {
      "text/plain": [
       "19"
      ]
     },
     "execution_count": 4,
     "metadata": {},
     "output_type": "execute_result"
    }
   ],
   "source": [
    "import calculation as cal \n",
    "cal.calulation_minus(32,13)"
   ]
  },
  {
   "cell_type": "code",
   "execution_count": 7,
   "metadata": {},
   "outputs": [
    {
     "data": {
      "text/plain": [
       "-1"
      ]
     },
     "execution_count": 7,
     "metadata": {},
     "output_type": "execute_result"
    }
   ],
   "source": [
    "from calculation import calulation_plus,calulation_minus\n",
    "\n",
    "calulation_plus(23,32)\n",
    "calulation_minus(22,23)"
   ]
  },
  {
   "cell_type": "markdown",
   "metadata": {},
   "source": [
    "#### Example \n",
    "\n",
    "convert celsius to fahrenite,kelvin \n",
    "\n",
    "-input ใส่ค่าอุณหภูมิ , fahrenhite,kelvin \n",
    "- สูตรคำนวน (degrees-32)*(5/9) # fahrenhite ทศนิยม 2 ตำแหน่ง\n",
    "- สูตรคำนวน degrees -273.15 # kelvin ทศนิยม 2 ตำแหน่ง\n",
    "- ถ้าใส่ค่านอกเหนือจาก fahrenhite,kelvin โปรแกรมจะบอกว่า  \"ไม่รุ้จักค่านี้ให้ใส่ค่าใหม่\"\n",
    "- ถ้าไม่ใส่หน่วยอุณหภูมิให้โปรแกรมคิดว่า fahrenhite"
   ]
  },
  {
   "cell_type": "code",
   "execution_count": 12,
   "metadata": {},
   "outputs": [],
   "source": [
    "def convert_celsius(degrees,source=\"farenhite\"):\n",
    "    \"\"\"convert celsius to farenhite or kelvin\"\"\"\n",
    "    try:\n",
    "        if source.lower() == \"farenhite\":\n",
    "            result = round((float(degrees)-32)*(5/9),2)\n",
    "        elif source.lower() == \"kelvin\":\n",
    "            result = round(float(degrees)-273.15,2)\n",
    "        else:\n",
    "            result = \"Don't know a source\"\n",
    "        return result\n",
    "    except:\n",
    "        result = \"degrees mistake\"\n",
    "        return result"
   ]
  },
  {
   "cell_type": "code",
   "execution_count": 13,
   "metadata": {},
   "outputs": [
    {
     "name": "stdout",
     "output_type": "stream",
     "text": [
      "37.78\n",
      "-173.15\n",
      "Don't know a source\n",
      "37.78\n",
      "37.78\n",
      "degrees mistake\n",
      "37.78\n",
      "-173.15\n",
      "37.78\n"
     ]
    }
   ],
   "source": [
    "print(convert_celsius(100,'farenhite'))\n",
    "print(convert_celsius(100,'kelvin'))\n",
    "print(convert_celsius(100,'farenhite1'))\n",
    "print(convert_celsius(float(\"100\"),'farenhite'))\n",
    "print(convert_celsius(\"100\",'farenhite'))\n",
    "print(convert_celsius(\"asdasd\",'farenhite'))\n",
    "print(convert_celsius(\"100\",'Farenhite'))\n",
    "print(convert_celsius(\"100\",'Kelvin'))\n",
    "print(convert_celsius(\"100\"))"
   ]
  },
  {
   "cell_type": "code",
   "execution_count": 27,
   "metadata": {},
   "outputs": [
    {
     "name": "stdout",
     "output_type": "stream",
     "text": [
      "37.78\n",
      "-173.15\n",
      "Don't know the source\n",
      "37.78\n",
      "37.78\n",
      "degrees mistake\n",
      "37.78\n",
      "-173.15\n",
      "37.78\n"
     ]
    }
   ],
   "source": [
    "def convert_celsius(degrees,source=\"farenhite\"):\n",
    "    \"\"\"convert celsius to \n",
    "    kelvin or farenhite\"\"\"\n",
    "    try:\n",
    "        if source.lower() == \"farenhite\":\n",
    "            result  = round((float(degrees)-32)*(5/9),2)\n",
    "        elif source.lower() == \"kelvin\":\n",
    "            result = round(float(degrees) -273.15,2)\n",
    "        else:\n",
    "            result = \"Don't know the source\"\n",
    "        return result\n",
    "    except:\n",
    "        result = \"degrees mistake\"\n",
    "        return result\n",
    "\n",
    "\n",
    "print(convert_celsius(100,'farenhite'))\n",
    "print(convert_celsius(100,'kelvin'))\n",
    "print(convert_celsius(100,'farenhite1'))\n",
    "print(convert_celsius(float(\"100\"),'farenhite'))\n",
    "print(convert_celsius(\"100\",'farenhite'))\n",
    "print(convert_celsius(\"asdasd\",'farenhite'))\n",
    "print(convert_celsius(\"100\",'Farenhite'))\n",
    "print(convert_celsius(\"100\",'Kelvin'))\n",
    "print(convert_celsius(\"100\"))"
   ]
  }
 ],
 "metadata": {
  "kernelspec": {
   "display_name": "Python 3",
   "language": "python",
   "name": "python3"
  },
  "language_info": {
   "codemirror_mode": {
    "name": "ipython",
    "version": 3
   },
   "file_extension": ".py",
   "mimetype": "text/x-python",
   "name": "python",
   "nbconvert_exporter": "python",
   "pygments_lexer": "ipython3",
   "version": "3.12.0"
  },
  "orig_nbformat": 4
 },
 "nbformat": 4,
 "nbformat_minor": 2
}
