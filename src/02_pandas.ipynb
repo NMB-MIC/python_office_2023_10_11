{
 "cells": [
  {
   "cell_type": "markdown",
   "metadata": {},
   "source": [
    "#### Pandas\n",
    "\n",
    "- รวมข้อมูล (concat)\n",
    "\n",
    "- clean data\n",
    "  - ลบข้อมูล null\n",
    "  - ลบข้อมูลซ้ำ\n",
    "  - เลือก column เฉพาะที่ใช้\n",
    "  - แก้ไขชื่อ column\n",
    "  - เพิ่ม column คำนวนข้อมูล\n",
    "  \n",
    "- filter ข้อมูล (vlookup)\n",
    "- unique\n",
    "- fillnan\n",
    "- pivot\n",
    "- export excel"
   ]
  },
  {
   "cell_type": "code",
   "execution_count": null,
   "metadata": {},
   "outputs": [],
   "source": [
    "#install\n",
    "#!pip install openpyxl"
   ]
  },
  {
   "cell_type": "code",
   "execution_count": null,
   "metadata": {},
   "outputs": [],
   "source": [
    "import pandas as pd"
   ]
  },
  {
   "cell_type": "code",
   "execution_count": null,
   "metadata": {},
   "outputs": [],
   "source": [
    "df = pd.read_excel(r\"D:\\My Documents\\Desktop\\python_office_11_OCT_2023\\src\\data\\intro_pandas\\employee.xlsx\")"
   ]
  },
  {
   "cell_type": "code",
   "execution_count": null,
   "metadata": {},
   "outputs": [],
   "source": [
    "type(df)"
   ]
  },
  {
   "cell_type": "code",
   "execution_count": null,
   "metadata": {},
   "outputs": [],
   "source": [
    "df"
   ]
  },
  {
   "cell_type": "code",
   "execution_count": null,
   "metadata": {},
   "outputs": [],
   "source": [
    "df_2 = pd.read_excel(r\"D:\\My Documents\\Desktop\\python_office_11_OCT_2023\\src\\data\\intro_pandas\\employee_2.xlsx\")"
   ]
  },
  {
   "cell_type": "code",
   "execution_count": null,
   "metadata": {},
   "outputs": [],
   "source": [
    "df_2"
   ]
  },
  {
   "cell_type": "markdown",
   "metadata": {},
   "source": [
    "#### Concat"
   ]
  },
  {
   "cell_type": "code",
   "execution_count": null,
   "metadata": {},
   "outputs": [],
   "source": [
    "df_total = pd.concat([df,df_2])\n",
    "df_total"
   ]
  },
  {
   "cell_type": "markdown",
   "metadata": {},
   "source": [
    "#### reset index"
   ]
  },
  {
   "cell_type": "code",
   "execution_count": null,
   "metadata": {},
   "outputs": [],
   "source": [
    "df_reset_index = df_total.reset_index(drop=True)\n",
    "df_reset_index"
   ]
  },
  {
   "cell_type": "markdown",
   "metadata": {},
   "source": [
    "#### Drop duplicate"
   ]
  },
  {
   "cell_type": "code",
   "execution_count": null,
   "metadata": {},
   "outputs": [],
   "source": [
    "boolean = df_reset_index['emp_name'].duplicated().any()\n",
    "print(boolean)\n",
    "print(len(df_reset_index))\n",
    "\n",
    "df_dup = df_reset_index.drop_duplicates([\"emp_name\"])\n",
    "print(len(df_dup))\n",
    "boolean = df_dup['emp_name'].duplicated().any()\n",
    "print(boolean)\n",
    "df_dup"
   ]
  },
  {
   "cell_type": "markdown",
   "metadata": {},
   "source": [
    "#### Drop Null"
   ]
  },
  {
   "cell_type": "code",
   "execution_count": null,
   "metadata": {},
   "outputs": [],
   "source": [
    "print(df_dup.isnull().values.any())\n",
    "print(len(df_dup))\n",
    "\n",
    "df_null = df_dup.dropna()\n",
    "print(len(df_null))\n",
    "print(df_null.isnull().values.any())\n",
    "\n",
    "df_null"
   ]
  },
  {
   "cell_type": "markdown",
   "metadata": {},
   "source": [
    "#### calculate df"
   ]
  },
  {
   "cell_type": "code",
   "execution_count": null,
   "metadata": {},
   "outputs": [],
   "source": [
    "import datetime \n",
    "\n",
    "year = datetime.date.today().year\n",
    "print(year)\n",
    "\n",
    "df_age = df_null.assign(age= year-df_null[\"birthday year\"])\n",
    "df_age"
   ]
  },
  {
   "cell_type": "code",
   "execution_count": null,
   "metadata": {},
   "outputs": [],
   "source": [
    "df_age[[\"name\",\"surname\"]] = df_age[\"emp_name\"].str.split(expand=True)\n",
    "df_age"
   ]
  },
  {
   "cell_type": "markdown",
   "metadata": {},
   "source": [
    "#### custom columns"
   ]
  },
  {
   "cell_type": "code",
   "execution_count": null,
   "metadata": {},
   "outputs": [],
   "source": [
    "df_col = df_age[[\"name\",\"surname\",\"age\",\"country\"]]\n",
    "df_col"
   ]
  },
  {
   "cell_type": "markdown",
   "metadata": {},
   "source": [
    "#### edit columns name"
   ]
  },
  {
   "cell_type": "code",
   "execution_count": null,
   "metadata": {},
   "outputs": [],
   "source": [
    "df_edit_name = df_col.rename(columns={'name':\"first name\",\"surname\":\"last name\"})\n",
    "df_edit_name"
   ]
  },
  {
   "cell_type": "markdown",
   "metadata": {},
   "source": [
    "#### selecting data "
   ]
  },
  {
   "cell_type": "code",
   "execution_count": null,
   "metadata": {},
   "outputs": [],
   "source": [
    "df_lookup = df_edit_name.copy()\n",
    "\n",
    "df_lookup_1 = df_lookup[df_lookup[\"age\"] > 100]\n",
    "df_lookup_1\n",
    "\n",
    "df_lookup_2 = df_lookup[(df_lookup[\"age\"] > 30) & (df_lookup[\"age\"] < 100)]\n",
    "df_lookup_2\n",
    "\n",
    "df_lookup_3 = df_lookup[(df_lookup[\"country\"] == \"US\") | (df_lookup[\"country\"] == \"THA\")]\n",
    "df_lookup_3"
   ]
  },
  {
   "cell_type": "markdown",
   "metadata": {},
   "source": [
    "#### unique"
   ]
  },
  {
   "cell_type": "code",
   "execution_count": null,
   "metadata": {},
   "outputs": [],
   "source": [
    "df_unique = df_lookup[\"country\"].unique()\n",
    "#df_unique = df_lookup[\"last name\"].unique()\n",
    "df_unique"
   ]
  },
  {
   "cell_type": "markdown",
   "metadata": {},
   "source": [
    "#### pivot"
   ]
  },
  {
   "cell_type": "code",
   "execution_count": null,
   "metadata": {},
   "outputs": [],
   "source": [
    "df_pivot = pd.pivot_table(df_lookup,\n",
    "                index=\"last name\",\n",
    "                columns=\"country\",\n",
    "                values=\"age\",\n",
    "                aggfunc=\"count\")\n",
    "df_pivot"
   ]
  },
  {
   "cell_type": "markdown",
   "metadata": {},
   "source": [
    "#### fillna"
   ]
  },
  {
   "cell_type": "code",
   "execution_count": null,
   "metadata": {},
   "outputs": [],
   "source": [
    "df_fillna = df_pivot.fillna(0)\n",
    "df_fillna"
   ]
  },
  {
   "cell_type": "markdown",
   "metadata": {},
   "source": [
    "#### export"
   ]
  },
  {
   "cell_type": "code",
   "execution_count": null,
   "metadata": {},
   "outputs": [],
   "source": [
    "df_fillna.to_csv(\"export\\pivot_surname.csv\")"
   ]
  },
  {
   "cell_type": "markdown",
   "metadata": {},
   "source": [
    "#### example"
   ]
  },
  {
   "cell_type": "code",
   "execution_count": null,
   "metadata": {},
   "outputs": [],
   "source": [
    "print(df_lookup[\"country\"].unique())\n",
    "\n",
    "df_add_contry = df_lookup.copy()\n",
    "df_add_contry.loc[58] = [\"suraphop\", \"bunsawat\",23, \"SPA\"]\n",
    "print(df_add_contry[\"country\"].unique())\n",
    "# print(df_lookup)\n",
    "# print(df_split_contry)"
   ]
  },
  {
   "cell_type": "code",
   "execution_count": null,
   "metadata": {},
   "outputs": [],
   "source": [
    "def csv_sort_country(df):\n",
    "    \"\"\"sorted data by country\"\"\"\n",
    "    country_lists = df[\"country\"].unique()\n",
    "    for i in range(len(country_lists)):\n",
    "        df_result = df[df[\"country\"] == country_lists[i]]\n",
    "        df_result.to_csv(f\"export\\df_sorted_{country_lists[i]}.csv\",index=False)\n",
    "        \n",
    "csv_sort_country(df_lookup) #df_split_contry,df_lookup"
   ]
  }
 ],
 "metadata": {
  "kernelspec": {
   "display_name": "Python 3",
   "language": "python",
   "name": "python3"
  },
  "language_info": {
   "codemirror_mode": {
    "name": "ipython",
    "version": 3
   },
   "file_extension": ".py",
   "mimetype": "text/x-python",
   "name": "python",
   "nbconvert_exporter": "python",
   "pygments_lexer": "ipython3",
   "version": "3.12.0"
  },
  "orig_nbformat": 4
 },
 "nbformat": 4,
 "nbformat_minor": 2
}
