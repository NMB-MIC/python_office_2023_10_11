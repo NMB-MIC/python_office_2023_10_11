{
 "cells": [
  {
   "cell_type": "markdown",
   "metadata": {},
   "source": [
    "## Automate read excel"
   ]
  },
  {
   "cell_type": "code",
   "execution_count": null,
   "metadata": {},
   "outputs": [],
   "source": [
    "import pandas as pd"
   ]
  },
  {
   "cell_type": "code",
   "execution_count": null,
   "metadata": {},
   "outputs": [],
   "source": [
    "df = pd.read_excel(r'D:\\My Documents\\Desktop\\python_office_11_OCT_2023\\src\\data\\sales_data\\2021\\August.xlsx')\n",
    "df"
   ]
  },
  {
   "cell_type": "markdown",
   "metadata": {},
   "source": [
    "#### read multiple file excel"
   ]
  },
  {
   "cell_type": "code",
   "execution_count": null,
   "metadata": {},
   "outputs": [],
   "source": [
    "import os\n",
    "\n",
    "xlsx_file_lists = []\n",
    "\n",
    "path = r'D:\\My Documents\\Desktop\\python_office_11_OCT_2023\\src\\data\\sales_data'\n",
    "\n",
    "for root,dirs,files in os.walk(path):\n",
    "    #print(root)\n",
    "    #print(dirs)\n",
    "    #print(files)\n",
    "    for name in files:\n",
    "        #print(root)\n",
    "        #print(name)\n",
    "        file_path = os.path.join(root,name)\n",
    "       # print(file_path)\n",
    "        xlsx_file_lists.append(file_path)\n",
    "print(xlsx_file_lists)"
   ]
  },
  {
   "cell_type": "code",
   "execution_count": null,
   "metadata": {},
   "outputs": [],
   "source": [
    "df = pd.read_excel(xlsx_file_lists[0])\n",
    "df"
   ]
  },
  {
   "cell_type": "code",
   "execution_count": null,
   "metadata": {},
   "outputs": [],
   "source": [
    "msg = r'D:\\My Documents\\Desktop\\python_office_11_OCT_2023\\src\\data\\sales_data\\2021\\April.xlsx'\n",
    "\n",
    "print(msg.split(\"\\\\\"))\n",
    "print(msg.split(\"\\\\\")[-2])"
   ]
  },
  {
   "cell_type": "code",
   "execution_count": null,
   "metadata": {},
   "outputs": [],
   "source": [
    "for f in xlsx_file_lists:\n",
    "    if f.split(\"\\\\\")[-2] == \"2021\":\n",
    "        print(f)"
   ]
  },
  {
   "cell_type": "code",
   "execution_count": null,
   "metadata": {},
   "outputs": [],
   "source": [
    "for f in xlsx_file_lists:\n",
    "    if f.split(\"\\\\\")[-1] == \"April.xlsx\":\n",
    "        print(f)"
   ]
  },
  {
   "cell_type": "code",
   "execution_count": null,
   "metadata": {},
   "outputs": [],
   "source": [
    "for f in xlsx_file_lists:\n",
    "    if f.split(\"\\\\\")[-1].split(\".\")[0] == \"April\":\n",
    "        print(f)"
   ]
  },
  {
   "cell_type": "code",
   "execution_count": null,
   "metadata": {},
   "outputs": [],
   "source": [
    "for f in xlsx_file_lists:\n",
    "    if f.split(\"\\\\\")[-2] == \"2022\":\n",
    "        if f.split(\"\\\\\")[-1].split(\".\")[0] == \"April\":\n",
    "            print(f)"
   ]
  },
  {
   "cell_type": "code",
   "execution_count": null,
   "metadata": {},
   "outputs": [],
   "source": [
    "import datetime \n",
    "today = datetime.date.today()\n",
    "year = today.year-1\n",
    "#print(year)\n",
    "\n",
    "for f in xlsx_file_lists:\n",
    "    if f.split(\"\\\\\")[-2] == str(year):\n",
    "        if f.split(\"\\\\\")[-1].split(\".\")[0] == \"April\":\n",
    "            print(f)\n",
    "            df = pd.read_excel(f)\n",
    "df"
   ]
  },
  {
   "cell_type": "markdown",
   "metadata": {},
   "source": [
    "#### Example sales report summary"
   ]
  },
  {
   "cell_type": "code",
   "execution_count": null,
   "metadata": {},
   "outputs": [],
   "source": [
    "import datetime \n",
    "today = datetime.date.today()\n",
    "year = today.year-1\n",
    "\n",
    "xlxs_file_lists = []\n",
    "\n",
    "for root,dirs,files in os.walk(path):\n",
    "      for name in files:\n",
    "        file_path = os.path.join(root,name)\n",
    "        if file_path.split(\"\\\\\")[-2] == str(year): #change filter\n",
    "            xlxs_file_lists.append(file_path)\n",
    "xlxs_file_lists"
   ]
  },
  {
   "cell_type": "code",
   "execution_count": null,
   "metadata": {},
   "outputs": [],
   "source": [
    "df_lists = []\n",
    "\n",
    "for f in xlxs_file_lists:\n",
    "    df = pd.read_excel(f)\n",
    "    df_lists.append(df)\n",
    "df_lists"
   ]
  },
  {
   "cell_type": "code",
   "execution_count": null,
   "metadata": {},
   "outputs": [],
   "source": [
    "df_summary = pd.concat(df_lists)\n",
    "df_summary"
   ]
  },
  {
   "cell_type": "code",
   "execution_count": null,
   "metadata": {},
   "outputs": [],
   "source": [
    "pivot = pd.pivot_table(df_summary,index=\"transaction_date\",columns=\"store\",values=\"amount\",aggfunc=\"sum\")\n",
    "pivot"
   ]
  },
  {
   "cell_type": "code",
   "execution_count": null,
   "metadata": {},
   "outputs": [],
   "source": [
    "summary_monthly = pivot.resample(\"M\").sum()\n",
    "summary_monthly"
   ]
  },
  {
   "cell_type": "code",
   "execution_count": null,
   "metadata": {},
   "outputs": [],
   "source": [
    "import matplotlib\n",
    "fig = summary_monthly.plot(kind=\"bar\",figsize=(20,12),fontsize=26,title=\"monthly sale summary\").get_figure()"
   ]
  },
  {
   "cell_type": "code",
   "execution_count": 56,
   "metadata": {},
   "outputs": [
    {
     "name": "stderr",
     "output_type": "stream",
     "text": [
      "<>:26: SyntaxWarning: invalid escape sequence '\\s'\n",
      "<>:26: SyntaxWarning: invalid escape sequence '\\s'\n",
      "C:\\Users\\lbj6639\\AppData\\Local\\Temp\\ipykernel_15256\\1926154670.py:26: SyntaxWarning: invalid escape sequence '\\s'\n",
      "  template.save(f\"export\\summary_sale_report_{date_file_name}.xlsx\")\n"
     ]
    }
   ],
   "source": [
    "import xlwings as xw\n",
    "\n",
    "import datetime\n",
    "now = datetime.datetime.now()\n",
    "date_file_name = f'{str(now.date())}_{str(now.time()).split(\".\")[0].replace(\":\",\"_\")}'\n",
    "\n",
    "\n",
    "template = xw.Book(r\"D:\\My Documents\\Desktop\\python_office_11_OCT_2023\\src\\data\\sale_template.xlsx\")\n",
    "\n",
    "app = xw.apps.active\n",
    "sheet = template.sheets[\"summary\"]\n",
    "sheet[\"A1\"].value = summary_monthly\n",
    "\n",
    "pivot_page = template.sheets[\"pivot\"]\n",
    "pivot_page[\"A1\"].value = pivot\n",
    "\n",
    "#add picture\n",
    "sheet_report = template.sheets[\"report\"]\n",
    "sheet_report[\"A1\"].value = \"Summary by month\"\n",
    "sheet_report['A1'].font.size = 24\n",
    "sheet_report[\"A1\"].api.Font.Bold = True\n",
    "plot= sheet_report.pictures.add(fig,top=sheet[\"A3\"].top,left=sheet[\"A3\"].left)\n",
    "plot.width = plot.width*0.8\n",
    "plot.height = plot.height*0.8\n",
    "\n",
    "template.save(f\"export\\summary_sale_report_{date_file_name}.xlsx\")\n",
    "template.close()\n",
    "app.kill()"
   ]
  },
  {
   "cell_type": "markdown",
   "metadata": {},
   "source": [
    "#### script node-red\n",
    "conda activate python_office && python \"D:\\My Documents\\Desktop\\python_office\\src\\sale_report_script.py\"\n",
    "\n",
    "#### install pm2\n",
    "- npm install -g pm2 \n",
    "- pm2 status\n",
    "- pm2 start C:\\Users\\<User>\\AppData\\Roaming\\npm\\node_modules\\node-red\\red.js\n",
    "- pm2 start C:\\Users\\lbj6639\\AppData\\Roaming\\npm\\node_modules\\node-red\\red.js\n",
    "- npm install pm2-windows-startup -g\n",
    "- pm2-startup install\n",
    "- pm2 save"
   ]
  },
  {
   "cell_type": "markdown",
   "metadata": {},
   "source": [
    "#### send email"
   ]
  },
  {
   "cell_type": "code",
   "execution_count": 2,
   "metadata": {},
   "outputs": [],
   "source": [
    "#!pip install email"
   ]
  },
  {
   "cell_type": "code",
   "execution_count": 3,
   "metadata": {},
   "outputs": [],
   "source": [
    "import smtplib\n",
    "from email.mime.multipart import MIMEMultipart\n",
    "from email.mime.base import MIMEBase\n",
    "from email import encoders\n",
    "from email.mime.text import MIMEText\n",
    "\n",
    "from datetime import date\n",
    "\n",
    "today = date.today()\n",
    "\n",
    "send_from = 'suraphop.b@minebea.co.th'\n",
    "send_to = ['suraphop.b@minebea.co.th','devops.mic@gmail.com']\n",
    "subject = f\"sale summary report {today}\"\n",
    "\n",
    "text = f'''<html>\n",
    "        <head><b>Dear sir</b></head>\n",
    "        <body>\n",
    "            <div>\n",
    "              I would like to report summary sale result with a attach file as below\n",
    "            </div>\n",
    "            <p>Suraphop Bunsawat<br>MIC division<br>Tel: 2236</p><br>\n",
    "            <div>\n",
    "            <i>a attactfile</i>\n",
    "            </div>\n",
    "        </body>\n",
    "    </html>'''\n",
    "\n",
    "files = f\"export\\summary_sale_report_{date_file_name}.xlsx\"\n",
    "\n",
    "username = 'suraphop.b@minebea.co.th'\n",
    "password = \"\"\n",
    "\n",
    "\n",
    "msg = MIMEMultipart()\n",
    "msg['Subject'] = subject \n",
    "msg['From'] = send_from\n",
    "msg['To'] = ', '.join(send_to)\n",
    "\n",
    "msg.attach(MIMEText(text,'html'))\n",
    "\n",
    "part = MIMEBase('application', \"octet-stream\")\n",
    "with open(files, 'rb') as f:\n",
    "    file = f.read()\n",
    "part.set_payload(file)\n",
    "encoders.encode_base64(part)    \n",
    "part.add_header('Content-Disposition', f'attachment; filename=\"sale_summary.xlsx\"')\n",
    "msg.attach(part)\n",
    "\n",
    "server = smtplib.SMTP(\"smtp.gmail.com\", 587)\n",
    "server.ehlo()\n",
    "server.starttls()\n",
    "server.login(username, password)\n",
    "server.sendmail(send_from,send_to, msg.as_string())"
   ]
  }
 ],
 "metadata": {
  "kernelspec": {
   "display_name": "Python 3",
   "language": "python",
   "name": "python3"
  },
  "language_info": {
   "codemirror_mode": {
    "name": "ipython",
    "version": 3
   },
   "file_extension": ".py",
   "mimetype": "text/x-python",
   "name": "python",
   "nbconvert_exporter": "python",
   "pygments_lexer": "ipython3",
   "version": "3.12.0"
  },
  "orig_nbformat": 4
 },
 "nbformat": 4,
 "nbformat_minor": 2
}
