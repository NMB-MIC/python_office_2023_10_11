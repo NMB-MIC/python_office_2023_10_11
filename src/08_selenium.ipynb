{
 "cells": [
  {
   "cell_type": "markdown",
   "metadata": {},
   "source": [
    "## Selenuim"
   ]
  },
  {
   "cell_type": "code",
   "execution_count": null,
   "metadata": {},
   "outputs": [],
   "source": [
    "#!pip install selenium"
   ]
  },
  {
   "cell_type": "code",
   "execution_count": null,
   "metadata": {},
   "outputs": [],
   "source": [
    "from selenium import webdriver\n",
    "from selenium.webdriver.common.by import By\n",
    "from selenium.webdriver.common.keys import Keys\n",
    "\n",
    "driver = webdriver.Chrome()\n",
    "\n",
    "driver.get(\"https://www.python.org\")\n",
    "\n",
    "search_bar = driver.find_element(By.XPATH,'//*[@id=\"id-search-field\"]')\n",
    "\n",
    "#search_bar = driver.find_element(By.ID,\"id-search-field\")\n",
    "search_bar.send_keys(\"getting started with python\")\n",
    "search_bar.send_keys(Keys.RETURN)\n",
    "\n",
    "# submit = driver.find_element(By.NAME,\"submit\")\n",
    "# submit.click()\n",
    "\n",
    "print(driver.title)\n",
    "print(driver.current_url)\n",
    "\n",
    "driver.close()\n",
    "# driver.quit()"
   ]
  },
  {
   "cell_type": "markdown",
   "metadata": {},
   "source": [
    "#### By tag"
   ]
  },
  {
   "cell_type": "code",
   "execution_count": null,
   "metadata": {},
   "outputs": [],
   "source": [
    "from selenium import webdriver\n",
    "from selenium.webdriver.common.by import By\n",
    "from selenium.webdriver.common.keys import Keys\n",
    "\n",
    "driver = webdriver.Chrome()\n",
    "\n",
    "driver.get(\"D:\\My Documents\\Desktop\\python_office_11_OCT_2023\\src\\html\\main.html\")\n",
    "\n",
    "element = driver.find_element(By.TAG_NAME,\"h1\")\n",
    "print(element.text)\n",
    "\n",
    "print(\"---\")\n",
    "element = driver.find_element(By.TAG_NAME,\"p\")\n",
    "print(element.text)\n",
    "\n",
    "print(\"---\")\n",
    "elements = driver.find_elements(By.TAG_NAME,\"p\")\n",
    "for element in elements:\n",
    "    print(element.text)\n",
    "\n",
    "# print(\"---\")\n",
    "# elements = driver.find_elements(By.TAG_NAME,\"a\")\n",
    "# for j in elements:\n",
    "#     if j.text == \"continue\":\n",
    "#         j.click()\n",
    "\n",
    "# print(\"----\")\n",
    "# elements = driver.find_elements(By.TAG_NAME, \"a\")\n",
    "# for i in elements:\n",
    "#     print(i.text)\n",
    "#     if i.text == \"cancel\":\n",
    "#         i.click()\n",
    "\n",
    "# continue_page = driver.find_element(By.XPATH,'/html/body/a[1]')\n",
    "# continue_page.click()\n",
    "\n",
    "continue_page = driver.find_element(By.XPATH,'/html/body/a[2]')\n",
    "continue_page.click()"
   ]
  },
  {
   "cell_type": "markdown",
   "metadata": {},
   "source": [
    "#### Login"
   ]
  },
  {
   "cell_type": "code",
   "execution_count": null,
   "metadata": {},
   "outputs": [],
   "source": [
    "from selenium import webdriver\n",
    "from selenium.webdriver.common.by import By\n",
    "from selenium.webdriver.common.keys import Keys\n",
    "\n",
    "driver = webdriver.Chrome()\n",
    "\n",
    "driver.get(\"D:\\My Documents\\Desktop\\python_office_11_OCT_2023\\src\\html\\login.html\")\n",
    "\n",
    "\n",
    "username = driver.find_element(By.NAME,\"username\")\n",
    "username.send_keys(\"suraphop\")\n",
    "\n",
    "password = driver.find_element(By.NAME,\"password\")\n",
    "password.send_keys(\"password\")\n",
    "\n",
    "submit = driver.find_element(By.NAME,\"submit\")\n",
    "submit.click()"
   ]
  },
  {
   "cell_type": "markdown",
   "metadata": {},
   "source": [
    "#### Partial link text"
   ]
  },
  {
   "cell_type": "code",
   "execution_count": null,
   "metadata": {},
   "outputs": [],
   "source": [
    "from selenium import webdriver\n",
    "from selenium.webdriver.common.by import By\n",
    "import time\n",
    "\n",
    "driver = webdriver.Chrome()\n",
    "\n",
    "driver.get(\"D:\\My Documents\\Desktop\\python_office_11_OCT_2023\\src\\html\\main.html\")\n",
    "\n",
    "# continue_link = driver.find_element(By.PARTIAL_LINK_TEXT,\"continue\")\n",
    "# continue_link.click()\n",
    "\n",
    "# continue_link = driver.find_element(By.PARTIAL_LINK_TEXT,\"cancel\")\n",
    "# continue_link.click()\n",
    "\n",
    "continue_link = driver.find_element(By.PARTIAL_LINK_TEXT,\"Continue with new tab\")\n",
    "continue_link.click()"
   ]
  },
  {
   "cell_type": "markdown",
   "metadata": {},
   "source": [
    "#### switch new window"
   ]
  },
  {
   "cell_type": "code",
   "execution_count": null,
   "metadata": {},
   "outputs": [],
   "source": [
    "from selenium import webdriver\n",
    "from selenium.webdriver.common.by import By\n",
    "import time\n",
    "\n",
    "driver = webdriver.Chrome()\n",
    "\n",
    "driver.get(\"D:\\My Documents\\Desktop\\python_office_11_OCT_2023\\src\\html\\main.html\")\n",
    "\n",
    "continue_link = driver.find_element(By.PARTIAL_LINK_TEXT,\"Continue with new tab\")\n",
    "continue_link.click()\n",
    "\n",
    "driver.switch_to.window(driver.window_handles[0])\n",
    "#driver.switch_to.window(driver.window_handles[1])"
   ]
  },
  {
   "cell_type": "markdown",
   "metadata": {},
   "source": [
    "#### alert\n",
    "alert = driver.switch_to.alert\n",
    "- alert_obj.accept() – used to accept the Alert\n",
    "- alert_obj.dismiss() – used to cancel the Alert\n",
    "- alert.send_keys() – used to enter a value in the Alert text box.\n",
    "- alert.text() – used to retrieve the message included in the Alert pop-up."
   ]
  },
  {
   "cell_type": "code",
   "execution_count": null,
   "metadata": {},
   "outputs": [],
   "source": [
    "from selenium import webdriver\n",
    "from selenium.webdriver.common.by import By\n",
    "import time\n",
    "\n",
    "driver = webdriver.Chrome()\n",
    "\n",
    "driver.get(\"D:\\My Documents\\Desktop\\python_office_11_OCT_2023\\src\\html\\main.html\")\n",
    "\n",
    "alert_but = driver.find_element(By.XPATH,'/html/body/button[1]')\n",
    "alert_but.click()\n",
    "\n",
    "alert_popup = driver.switch_to.alert\n",
    "time.sleep(2)\n",
    "alert_popup.accept()"
   ]
  },
  {
   "cell_type": "code",
   "execution_count": null,
   "metadata": {},
   "outputs": [],
   "source": [
    "from selenium import webdriver\n",
    "from selenium.webdriver.common.by import By\n",
    "import time\n",
    "\n",
    "driver = webdriver.Chrome()\n",
    "\n",
    "driver.get(\"D:\\My Documents\\Desktop\\python_office_11_OCT_2023\\src\\html\\main.html\")\n",
    "\n",
    "# alert_but = driver.find_element(By.XPATH,'/html/body/button[2]')\n",
    "# alert_but.click()\n",
    "\n",
    "# alert_popup = driver.switch_to.alert\n",
    "# time.sleep(2)\n",
    "# alert_popup.accept()\n",
    "\n",
    "alert_but = driver.find_element(By.XPATH,'/html/body/button[2]')\n",
    "alert_but.click()\n",
    "\n",
    "alert_popup = driver.switch_to.alert\n",
    "time.sleep(2)\n",
    "alert_popup.dismiss()"
   ]
  },
  {
   "cell_type": "markdown",
   "metadata": {},
   "source": [
    "#### Date picker"
   ]
  },
  {
   "cell_type": "code",
   "execution_count": null,
   "metadata": {},
   "outputs": [],
   "source": [
    "from selenium import webdriver\n",
    "from selenium.webdriver.common.by import By\n",
    "import time\n",
    "\n",
    "driver = webdriver.Chrome()\n",
    "\n",
    "driver.get(\"D:\\My Documents\\Desktop\\python_office_11_OCT_2023\\src\\html\\main.html\")\n",
    "\n",
    "datefield = driver.find_element(By.NAME, 'birthday')\n",
    "\n",
    "#datefield.send_keys(\"08102023\")\n",
    "\n",
    "datefield.send_keys(\"11122023\")"
   ]
  },
  {
   "cell_type": "markdown",
   "metadata": {},
   "source": [
    "#### Example"
   ]
  },
  {
   "cell_type": "code",
   "execution_count": null,
   "metadata": {},
   "outputs": [],
   "source": [
    "from selenium import webdriver\n",
    "from selenium.webdriver.common.by import By\n",
    "import time\n",
    "\n",
    "driver = webdriver.Chrome()\n",
    "\n",
    "driver.get(r\"http://web02.lb.minebea.local/airbusbooking/loginad.aspx\")\n",
    "\n",
    "location = driver.find_element(By.XPATH, '//*[@id=\"ddlDomain\"]/option[1]')\n",
    "location.click()\n",
    "\n",
    "username = driver.find_element(By.NAME, 'txtUser')\n",
    "username.send_keys(\"\")\n",
    "\n",
    "password = driver.find_element(By.NAME, 'txtPwd')\n",
    "password.send_keys(\"\")\n",
    "\n",
    "submit = driver.find_element(By.ID, 'btnLogin')\n",
    "submit.click()\n",
    "\n",
    "submit = driver.find_element(By.ID, 'btnAccept')\n",
    "submit.click()\n",
    "\n",
    "submit = driver.find_element(By.XPATH, '//*[@id=\"Table1\"]/tbody/tr/td[3]/table/tbody/tr[5]/td[1]/div/div/label')\n",
    "submit.click()\n",
    "\n",
    "time.sleep(5)\n",
    "submit = driver.find_element(By.ID, 'btnNewBooking')\n",
    "submit.click()"
   ]
  },
  {
   "cell_type": "code",
   "execution_count": null,
   "metadata": {},
   "outputs": [],
   "source": [
    "from selenium import webdriver\n",
    "from selenium.webdriver.common.by import By\n",
    "import time\n",
    "driver.implicitly_wait(10)\n",
    "driver = webdriver.Chrome()\n",
    "\n",
    "driver.get(r\"http://web02.lb.minebea.local/websource/information/frame.asp\")\n",
    "\n",
    "frame_content = driver.find_element(By.XPATH, '/html/frameset/frame[1]')\n",
    "\n",
    "driver.switch_to.frame(frame_content)\n",
    "\n",
    "location = driver.find_element(By.XPATH, '/html/body/table/tbody/tr/td[7]')\n",
    "location.click()\n",
    "\n",
    "\n",
    "driver.switch_to.default_content()\n",
    "\n",
    "frame_content = driver.find_element(By.XPATH, '/html/frameset/frame[2]')\n",
    "\n",
    "driver.switch_to.frame(frame_content)\n",
    "\n",
    "location = driver.find_element(By.XPATH, '/html/body/form/table/tbody/tr/td[2]/select/option[8]')\n",
    "location.click()\n",
    "\n",
    "location = driver.find_element(By.XPATH, '/html/body/form/table/tbody/tr/td[3]/input')\n",
    "location.click()\n",
    "\n",
    "location = driver.find_element(By.XPATH, '/html/body/form/table/tbody/tr/td[6]/a')\n",
    "location.click()\n"
   ]
  }
 ],
 "metadata": {
  "kernelspec": {
   "display_name": "Python 3",
   "language": "python",
   "name": "python3"
  },
  "language_info": {
   "codemirror_mode": {
    "name": "ipython",
    "version": 3
   },
   "file_extension": ".py",
   "mimetype": "text/x-python",
   "name": "python",
   "nbconvert_exporter": "python",
   "pygments_lexer": "ipython3",
   "version": "3.10.0"
  },
  "orig_nbformat": 4
 },
 "nbformat": 4,
 "nbformat_minor": 2
}
