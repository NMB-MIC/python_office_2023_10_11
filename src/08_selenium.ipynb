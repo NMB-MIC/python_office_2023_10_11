{
 "cells": [
  {
   "cell_type": "markdown",
   "metadata": {},
   "source": [
    "## Selenuim"
   ]
  },
  {
   "cell_type": "code",
   "execution_count": null,
   "metadata": {},
   "outputs": [],
   "source": [
    "#!pip install selenium"
   ]
  },
  {
   "cell_type": "code",
   "execution_count": 9,
   "metadata": {},
   "outputs": [
    {
     "name": "stdout",
     "output_type": "stream",
     "text": [
      "Welcome to Python.org\n",
      "https://www.python.org/search/?q=getting+started+with+python&submit=\n"
     ]
    }
   ],
   "source": [
    "from selenium import webdriver\n",
    "from selenium.webdriver.common.by import By\n",
    "from selenium.webdriver.common.keys import Keys\n",
    "\n",
    "driver = webdriver.Chrome()\n",
    "\n",
    "driver.get(\"https://www.python.org\")\n",
    "\n",
    "search_bar = driver.find_element(By.XPATH,'//*[@id=\"id-search-field\"]')\n",
    "\n",
    "#search_bar = driver.find_element(By.ID,\"id-search-field\")\n",
    "search_bar.send_keys(\"getting started with python\")\n",
    "search_bar.send_keys(Keys.RETURN)\n",
    "\n",
    "# submit = driver.find_element(By.NAME,\"submit\")\n",
    "# submit.click()\n",
    "\n",
    "print(driver.title)\n",
    "print(driver.current_url)\n",
    "\n",
    "driver.close()\n",
    "# driver.quit()"
   ]
  },
  {
   "cell_type": "markdown",
   "metadata": {},
   "source": [
    "#### By tag"
   ]
  },
  {
   "cell_type": "code",
   "execution_count": 14,
   "metadata": {},
   "outputs": [
    {
     "name": "stdout",
     "output_type": "stream",
     "text": [
      "Welcome\n",
      "---\n",
      "Site content goes here.\n",
      "---\n",
      "Site content goes here.\n",
      "Site content goes here. line 2\n"
     ]
    }
   ],
   "source": [
    "from selenium import webdriver\n",
    "from selenium.webdriver.common.by import By\n",
    "from selenium.webdriver.common.keys import Keys\n",
    "\n",
    "driver = webdriver.Chrome()\n",
    "\n",
    "driver.get(\"D:\\My Documents\\Desktop\\python_office_11_OCT_2023\\src\\html\\main.html\")\n",
    "\n",
    "element = driver.find_element(By.TAG_NAME,\"h1\")\n",
    "print(element.text)\n",
    "\n",
    "print(\"---\")\n",
    "element = driver.find_element(By.TAG_NAME,\"p\")\n",
    "print(element.text)\n",
    "\n",
    "print(\"---\")\n",
    "elements = driver.find_elements(By.TAG_NAME,\"p\")\n",
    "for element in elements:\n",
    "    print(element.text)"
   ]
  }
 ],
 "metadata": {
  "kernelspec": {
   "display_name": "Python 3",
   "language": "python",
   "name": "python3"
  },
  "language_info": {
   "codemirror_mode": {
    "name": "ipython",
    "version": 3
   },
   "file_extension": ".py",
   "mimetype": "text/x-python",
   "name": "python",
   "nbconvert_exporter": "python",
   "pygments_lexer": "ipython3",
   "version": "3.10.0"
  },
  "orig_nbformat": 4
 },
 "nbformat": 4,
 "nbformat_minor": 2
}
