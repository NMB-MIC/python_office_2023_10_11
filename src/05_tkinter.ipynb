{
 "cells": [
  {
   "cell_type": "markdown",
   "metadata": {},
   "source": [
    "## Tkinter"
   ]
  },
  {
   "cell_type": "code",
   "execution_count": 2,
   "metadata": {},
   "outputs": [],
   "source": [
    "#!pip install tk"
   ]
  },
  {
   "cell_type": "code",
   "execution_count": 28,
   "metadata": {},
   "outputs": [],
   "source": [
    "import tkinter as tk\n",
    "from tkinter import ttk\n",
    "\n",
    "def fahrenheit_to_celsius(f):\n",
    "    \"\"\"convert fahrenhite to celsius\"\"\"\n",
    "    result = round((f - 32) * 5/9,2)\n",
    "    return result\n",
    "\n",
    "\n",
    "def convert_button_clicked():\n",
    "    \"\"\"get temperature from entry then convert it\"\"\"\n",
    "    f = float(temperature.get())\n",
    "    c = fahrenheit_to_celsius(f)\n",
    "    result_label.config(text=c)\n",
    "\n",
    "#setup frame\n",
    "window = tk.Tk()\n",
    "window.title(\"Temperature Convert\")\n",
    "window.geometry(\"300x70\")\n",
    "window.resizable(False,False)\n",
    "frame = ttk.Frame(window)\n",
    "\n",
    "#option\n",
    "options = {'padx':5,'pady':5}\n",
    "\n",
    "#label\n",
    "temperature_label = ttk.Label(frame,text=\"Fahrenheit\")\n",
    "temperature_label.grid(column=0,row=0,**options)\n",
    "\n",
    "# inputbox\n",
    "temperature = tk.StringVar()\n",
    "temperature_input = ttk.Entry(frame,textvariable=temperature)\n",
    "temperature_input.grid(column=1,row=0,**options)\n",
    "\n",
    "#button \n",
    "convert_button = ttk.Button(frame,text='Convert')\n",
    "convert_button.grid(column=2,row=0,**options)\n",
    "convert_button.configure(command=convert_button_clicked)\n",
    "\n",
    "# result label\n",
    "result_label = ttk.Label(frame,text=\"input temperature\")\n",
    "result_label.grid(columnspan=2,row=1,**options)\n",
    "\n",
    "\n",
    "# add grid\n",
    "frame.grid(pady=12,padx=7)\n",
    "\n",
    "\n",
    "#loop gui\n",
    "window.mainloop()"
   ]
  }
 ],
 "metadata": {
  "kernelspec": {
   "display_name": "Python 3",
   "language": "python",
   "name": "python3"
  },
  "language_info": {
   "codemirror_mode": {
    "name": "ipython",
    "version": 3
   },
   "file_extension": ".py",
   "mimetype": "text/x-python",
   "name": "python",
   "nbconvert_exporter": "python",
   "pygments_lexer": "ipython3",
   "version": "3.12.0"
  },
  "orig_nbformat": 4
 },
 "nbformat": 4,
 "nbformat_minor": 2
}
