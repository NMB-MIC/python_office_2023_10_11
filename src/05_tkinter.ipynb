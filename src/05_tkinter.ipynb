{
 "cells": [
  {
   "cell_type": "markdown",
   "metadata": {},
   "source": [
    "## Tkinter"
   ]
  },
  {
   "cell_type": "code",
   "execution_count": 2,
   "metadata": {},
   "outputs": [],
   "source": [
    "#!pip install tk"
   ]
  },
  {
   "cell_type": "code",
   "execution_count": 29,
   "metadata": {},
   "outputs": [],
   "source": [
    "import tkinter as tk\n",
    "from tkinter import ttk\n",
    "\n",
    "def fahrenheit_to_celsius(f):\n",
    "    \"\"\"convert fahrenhite to celsius\"\"\"\n",
    "    result = round((f - 32) * 5/9,2)\n",
    "    return result\n",
    "\n",
    "\n",
    "def convert_button_clicked():\n",
    "    \"\"\"get temperature from entry then convert it\"\"\"\n",
    "    f = float(temperature.get())\n",
    "    c = fahrenheit_to_celsius(f)\n",
    "    result_label.config(text=c)\n",
    "\n",
    "#setup frame\n",
    "window = tk.Tk()\n",
    "window.title(\"Temperature Convert\")\n",
    "window.geometry(\"300x70\")\n",
    "window.resizable(False,False)\n",
    "frame = ttk.Frame(window)\n",
    "\n",
    "#option\n",
    "options = {'padx':5,'pady':5}\n",
    "\n",
    "#label\n",
    "temperature_label = ttk.Label(frame,text=\"Fahrenheit\")\n",
    "temperature_label.grid(column=0,row=0,**options)\n",
    "\n",
    "# inputbox\n",
    "temperature = tk.StringVar()\n",
    "temperature_input = ttk.Entry(frame,textvariable=temperature)\n",
    "temperature_input.grid(column=1,row=0,**options)\n",
    "\n",
    "#button \n",
    "convert_button = ttk.Button(frame,text='Convert')\n",
    "convert_button.grid(column=2,row=0,**options)\n",
    "convert_button.configure(command=convert_button_clicked)\n",
    "\n",
    "# result label\n",
    "result_label = ttk.Label(frame,text=\"input temperature\")\n",
    "result_label.grid(columnspan=2,row=1,**options)\n",
    "\n",
    "\n",
    "# add grid\n",
    "frame.grid(pady=12,padx=7)\n",
    "\n",
    "\n",
    "#loop gui\n",
    "window.mainloop()"
   ]
  },
  {
   "cell_type": "markdown",
   "metadata": {},
   "source": [
    "#### Build"
   ]
  },
  {
   "cell_type": "code",
   "execution_count": 31,
   "metadata": {},
   "outputs": [],
   "source": [
    "#!pip install pyinstaller"
   ]
  },
  {
   "cell_type": "code",
   "execution_count": 32,
   "metadata": {},
   "outputs": [
    {
     "name": "stderr",
     "output_type": "stream",
     "text": [
      "1906 INFO: PyInstaller: 6.1.0\n",
      "1907 INFO: Python: 3.12.0 (conda)\n",
      "1970 INFO: Platform: Windows-10-10.0.18363-SP0\n",
      "1972 INFO: wrote d:\\My Documents\\Desktop\\python_office_11_OCT_2023\\src\\temperature_converter.spec\n",
      "1985 INFO: Extending PYTHONPATH with paths\n",
      "['d:\\\\My Documents\\\\Desktop\\\\python_office_11_OCT_2023\\\\src']\n",
      "3075 INFO: checking Analysis\n",
      "3075 INFO: Building Analysis because Analysis-00.toc is non existent\n",
      "3076 INFO: Initializing module dependency graph...\n",
      "3084 INFO: Caching module graph hooks...\n",
      "3114 INFO: Analyzing base_library.zip ...\n",
      "9379 INFO: Loading module hook 'hook-encodings.py' from 'd:\\\\newenv\\\\Lib\\\\site-packages\\\\PyInstaller\\\\hooks'...\n",
      "15237 INFO: Loading module hook 'hook-pickle.py' from 'd:\\\\newenv\\\\Lib\\\\site-packages\\\\PyInstaller\\\\hooks'...\n",
      "18131 INFO: Loading module hook 'hook-heapq.py' from 'd:\\\\newenv\\\\Lib\\\\site-packages\\\\PyInstaller\\\\hooks'...\n",
      "19516 INFO: Caching module dependency graph...\n",
      "20078 INFO: Running Analysis Analysis-00.toc\n",
      "20078 INFO: Looking for Python shared library...\n",
      "20097 INFO: Using Python shared library: d:\\newenv\\python312.dll\n",
      "20097 INFO: Analyzing d:\\My Documents\\Desktop\\python_office_11_OCT_2023\\src\\temperature_converter.py\n",
      "20587 INFO: Processing module hooks...\n",
      "20595 INFO: Loading module hook 'hook-_tkinter.py' from 'd:\\\\newenv\\\\Lib\\\\site-packages\\\\PyInstaller\\\\hooks'...\n",
      "20596 INFO: checking Tree\n",
      "20597 INFO: Building Tree because Tree-00.toc is non existent\n",
      "20597 INFO: Building Tree Tree-00.toc\n",
      "20841 INFO: checking Tree\n",
      "20842 INFO: Building Tree because Tree-01.toc is non existent\n",
      "20842 INFO: Building Tree Tree-01.toc\n",
      "20856 INFO: checking Tree\n",
      "20856 INFO: Building Tree because Tree-02.toc is non existent\n",
      "20856 INFO: Building Tree Tree-02.toc\n",
      "21783 INFO: Looking for ctypes DLLs\n",
      "21802 INFO: Analyzing run-time hooks ...\n",
      "21807 INFO: Including run-time hook 'd:\\\\newenv\\\\Lib\\\\site-packages\\\\PyInstaller\\\\hooks\\\\rthooks\\\\pyi_rth_inspect.py'\n",
      "21811 INFO: Including run-time hook 'd:\\\\newenv\\\\Lib\\\\site-packages\\\\PyInstaller\\\\hooks\\\\rthooks\\\\pyi_rth__tkinter.py'\n",
      "21936 INFO: Looking for dynamic libraries\n",
      "22364 INFO: Extra DLL search directories (AddDllDirectory): []\n",
      "22365 INFO: Extra DLL search directories (PATH): []\n",
      "24160 INFO: Warnings written to d:\\My Documents\\Desktop\\python_office_11_OCT_2023\\src\\build\\temperature_converter\\warn-temperature_converter.txt\n",
      "24212 INFO: Graph cross-reference written to d:\\My Documents\\Desktop\\python_office_11_OCT_2023\\src\\build\\temperature_converter\\xref-temperature_converter.html\n",
      "24340 INFO: checking PYZ\n",
      "24341 INFO: Building PYZ because PYZ-00.toc is non existent\n",
      "24341 INFO: Building PYZ (ZlibArchive) d:\\My Documents\\Desktop\\python_office_11_OCT_2023\\src\\build\\temperature_converter\\PYZ-00.pyz\n",
      "26623 INFO: Building PYZ (ZlibArchive) d:\\My Documents\\Desktop\\python_office_11_OCT_2023\\src\\build\\temperature_converter\\PYZ-00.pyz completed successfully.\n",
      "26713 INFO: checking PKG\n",
      "26713 INFO: Building PKG because PKG-00.toc is non existent\n",
      "26713 INFO: Building PKG (CArchive) temperature_converter.pkg\n",
      "26815 INFO: Building PKG (CArchive) temperature_converter.pkg completed successfully.\n",
      "26833 INFO: Bootloader d:\\newenv\\Lib\\site-packages\\PyInstaller\\bootloader\\Windows-64bit-intel\\runw.exe\n",
      "26833 INFO: checking EXE\n",
      "26833 INFO: Building EXE because EXE-00.toc is non existent\n",
      "26833 INFO: Building EXE from EXE-00.toc\n",
      "26834 INFO: Copying bootloader EXE to d:\\My Documents\\Desktop\\python_office_11_OCT_2023\\src\\build\\temperature_converter\\temperature_converter.exe\n",
      "27433 INFO: Copying icon to EXE\n",
      "27493 INFO: Copying 0 resources to EXE\n",
      "27494 INFO: Embedding manifest in EXE\n",
      "27609 INFO: Appending PKG archive to EXE\n",
      "27614 INFO: Fixing EXE headers\n",
      "28808 INFO: Building EXE from EXE-00.toc completed successfully.\n",
      "28879 INFO: checking COLLECT\n",
      "28880 INFO: Building COLLECT because COLLECT-00.toc is non existent\n",
      "28882 INFO: Building COLLECT COLLECT-00.toc\n",
      "37409 INFO: Building COLLECT COLLECT-00.toc completed successfully.\n"
     ]
    }
   ],
   "source": [
    "!pyinstaller.exe --noconsole temperature_converter.py"
   ]
  }
 ],
 "metadata": {
  "kernelspec": {
   "display_name": "Python 3",
   "language": "python",
   "name": "python3"
  },
  "language_info": {
   "codemirror_mode": {
    "name": "ipython",
    "version": 3
   },
   "file_extension": ".py",
   "mimetype": "text/x-python",
   "name": "python",
   "nbconvert_exporter": "python",
   "pygments_lexer": "ipython3",
   "version": "3.12.0"
  },
  "orig_nbformat": 4
 },
 "nbformat": 4,
 "nbformat_minor": 2
}
